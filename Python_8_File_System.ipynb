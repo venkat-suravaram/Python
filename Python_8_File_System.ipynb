{
  "nbformat": 4,
  "nbformat_minor": 0,
  "metadata": {
    "colab": {
      "provenance": [],
      "authorship_tag": "ABX9TyM8lWn283rJnO3ucT8ZXDle"
    },
    "kernelspec": {
      "name": "python3",
      "display_name": "Python 3"
    },
    "language_info": {
      "name": "python"
    }
  },
  "cells": [
    {
      "cell_type": "code",
      "execution_count": 1,
      "metadata": {
        "id": "enxSw0Go_EZS"
      },
      "outputs": [],
      "source": [
        "## Perform read write operations of a file\n",
        "# Print statement just displays in console not persists for longer\n",
        "# you need to store information permanently in txt file\n",
        "# Open a file to read / write something\n",
        "# Mode = type of operation read/write; \"w\"  -> default mode is 'r' read\n",
        "file=open(\"test.txt\",\"w\") # file has created and opened in write mode\n",
        "file.write(\"this is my first file operation in test2.txt\")\n",
        "file.close() #close after any operation and mode\n"
      ]
    },
    {
      "cell_type": "code",
      "source": [
        "# another way\n",
        "%%writefile test1.txt\n",
        "this is a data in test1 file"
      ],
      "metadata": {
        "id": "ftKpomeH_Q9F"
      },
      "execution_count": null,
      "outputs": []
    },
    {
      "cell_type": "code",
      "source": [
        "# io.UnsupportedOperation: not readable because mode should be 'r' or read / default for read operations.\n",
        "# or ; sometimes you see empty output becasue cusrsor stopped at the end after each oeration in the file\n",
        "file=open(\"test.txt\")\n",
        "print(file.read()) # io.UnsupportedOperation: not readable because cusrsor stopped at the end after each oeration in the file\n",
        "\n",
        "# reset cursor\n",
        "#file.seek()\n",
        "file.seek(5) # cursor placed in 5th position\n",
        "\n",
        "file.tell() # gives you cursor position"
      ],
      "metadata": {
        "colab": {
          "base_uri": "https://localhost:8080/"
        },
        "id": "jefvvxe3_R0t",
        "outputId": "323978b6-efab-4a4b-e969-5faf0b192d14"
      },
      "execution_count": 3,
      "outputs": [
        {
          "output_type": "stream",
          "name": "stdout",
          "text": [
            "this is my first file operation in test2.txt\n"
          ]
        },
        {
          "output_type": "execute_result",
          "data": {
            "text/plain": [
              "5"
            ]
          },
          "metadata": {},
          "execution_count": 3
        }
      ]
    },
    {
      "cell_type": "code",
      "source": [
        "file=open(\"test.txt\")\n",
        "file.seek(5) # cursor placed in 5th position\n",
        "print(file.read())  # is my first file operation in test2.txt\n",
        "file.close()\n"
      ],
      "metadata": {
        "colab": {
          "base_uri": "https://localhost:8080/"
        },
        "id": "leCdlJdN_Ux1",
        "outputId": "8a729e0d-5f29-4e0d-965f-2dfd66b45edf"
      },
      "execution_count": 4,
      "outputs": [
        {
          "output_type": "stream",
          "name": "stdout",
          "text": [
            "is my first file operation in test2.txt\n"
          ]
        }
      ]
    },
    {
      "cell_type": "code",
      "source": [
        "############ read ()  vs readline()\n",
        "## difference between r and r+ mode ( r= read , r+= read and write mode)\n",
        "# this is my first file operation in test2.txt\n",
        "# line2\n",
        "# line3 asas\n",
        "# line4\n",
        "# asasdsds\n",
        "# dswqesad\n",
        "# dasdfdfa\n",
        "# ewrsfsdf\n",
        "# 111\n",
        "# this is my first file operation in test2.txt\n",
        "# line2\n",
        "# line3 asas\n",
        "\n",
        "file=open(\"test.txt\" ,'r+')\n",
        "print(file.read())  # this is my first file operation in test2.txt\n",
        "print(file.readline()) #' ' Empty\n",
        "print(file.tell())  # 44\n",
        "file.seek(0) # Change cursor position\n",
        "print(file.readline()) # reads first line\n",
        "print(file.readline()) # reads second line\n",
        "print(file.readline())# Reads next line\n",
        "file.close()\n"
      ],
      "metadata": {
        "colab": {
          "base_uri": "https://localhost:8080/"
        },
        "id": "G8NSmpvZ_hBn",
        "outputId": "4352d00a-b5e4-4236-e5bc-1f60ca6a0de5"
      },
      "execution_count": 5,
      "outputs": [
        {
          "output_type": "stream",
          "name": "stdout",
          "text": [
            "this is my first file operation in test2.txt\n",
            "\n",
            "44\n",
            "this is my first file operation in test2.txt\n",
            "\n",
            "\n"
          ]
        }
      ]
    },
    {
      "cell_type": "code",
      "source": [
        "######### read in a format as in the file & append text to existing\n",
        "# r= only reading\n",
        "# rb= reading in a binary format\n",
        "# r+ = opens file for both reading and writing\n",
        "# rb+ = writing and reading in binary format\n",
        "# w= only for writing\n",
        "# W+ = both writing and read operation\n",
        "# a = appending, any data writen to file automatically appended .\n",
        "\n",
        "f=open(\"test.txt\", \"r+\")\n",
        "for line in f :\n",
        "    print(line, end= \" \")\n",
        "f.write(\"**********this is append text in the middile \") # this appends text at the end of the cursor\n"
      ],
      "metadata": {
        "colab": {
          "base_uri": "https://localhost:8080/"
        },
        "id": "rQrhxM5o_ktY",
        "outputId": "380179cd-d3f8-455d-c4cd-590f2e6afd0f"
      },
      "execution_count": 6,
      "outputs": [
        {
          "output_type": "stream",
          "name": "stdout",
          "text": [
            "this is my first file operation in test2.txt "
          ]
        },
        {
          "output_type": "execute_result",
          "data": {
            "text/plain": [
              "45"
            ]
          },
          "metadata": {},
          "execution_count": 6
        }
      ]
    },
    {
      "cell_type": "code",
      "source": [
        "########\n",
        "f=open(\"test.txt\", \"r+\")\n",
        "f.seek(25)\n",
        "f.write(\"** 25th *** writing in 25th position using seek position method \") #\n",
        "f.close()"
      ],
      "metadata": {
        "id": "Kjus1iPh_nnR"
      },
      "execution_count": 8,
      "outputs": []
    },
    {
      "cell_type": "code",
      "source": [
        "#####\n",
        "f=open(\"test.txt\", \"r+\")\n",
        "print(f.readlines())\n",
        "f.close()"
      ],
      "metadata": {
        "colab": {
          "base_uri": "https://localhost:8080/"
        },
        "id": "LMl54woL_slZ",
        "outputId": "a5ef8d29-3afd-4489-8542-0cd38c1b7c99"
      },
      "execution_count": 10,
      "outputs": [
        {
          "output_type": "stream",
          "name": "stdout",
          "text": [
            "['this is my first file ope** 25th *** writing in 25th position using seek position method ']\n"
          ]
        }
      ]
    },
    {
      "cell_type": "code",
      "source": [
        "#### split words\n",
        "l1=[]\n",
        "l=[\"asasasa\",\"sasasas\"]\n",
        "for i in l[0].split():\n",
        "    l1.append(i[0])\n",
        "print(l1)"
      ],
      "metadata": {
        "colab": {
          "base_uri": "https://localhost:8080/"
        },
        "id": "baDyji09_u-5",
        "outputId": "137fcc76-d37b-4f08-b23f-bde9e7e3fbc6"
      },
      "execution_count": 11,
      "outputs": [
        {
          "output_type": "stream",
          "name": "stdout",
          "text": [
            "['a']\n"
          ]
        }
      ]
    },
    {
      "cell_type": "code",
      "source": [
        "### list to a file\n",
        "list=[\"this is my list line1\",\"this is my list line2\",\"this is my list line3\",\"this is my list line4\"]\n",
        "file=open(\"test.txt\", \"r+\")\n",
        "file.write(\"****writing at the end of cursor .\")\n",
        "print(file.writelines(list))\n",
        "file.seek(0)\n",
        "print(file.read())\n",
        "file.close()"
      ],
      "metadata": {
        "colab": {
          "base_uri": "https://localhost:8080/"
        },
        "id": "jQNS0Aaf_y1B",
        "outputId": "d754afa4-6087-47fa-d533-cb0ea75e582a"
      },
      "execution_count": 12,
      "outputs": [
        {
          "output_type": "stream",
          "name": "stdout",
          "text": [
            "None\n",
            "****writing at the end of cursor .this is my list line1this is my list line2this is my list line3this is my list line4\n"
          ]
        }
      ]
    },
    {
      "cell_type": "code",
      "source": [
        "### Delete file\n",
        "import os\n",
        "os.remove(\"test.txt\")"
      ],
      "metadata": {
        "id": "jFeACUFi_1zZ"
      },
      "execution_count": 13,
      "outputs": []
    },
    {
      "cell_type": "code",
      "source": [
        "### Get current working directory\n",
        "import os\n",
        "print(os.getcwd()) #C:\\Users\\vsura\\PycharmProjects\\pythonProject\n",
        "print(os.listdir()) # Get list of all files in the directory\n",
        "print(os.listdir(\"C:\\\\Users\\\\vsura\\\\PycharmProjects\\\\pythonProject\"))"
      ],
      "metadata": {
        "colab": {
          "base_uri": "https://localhost:8080/",
          "height": 236
        },
        "id": "hbQXjppX_5C0",
        "outputId": "33985c22-6130-43e5-f4bf-e9f281e2f564"
      },
      "execution_count": 14,
      "outputs": [
        {
          "output_type": "stream",
          "name": "stdout",
          "text": [
            "/content\n",
            "['.config', 'sample_data']\n"
          ]
        },
        {
          "output_type": "error",
          "ename": "FileNotFoundError",
          "evalue": "ignored",
          "traceback": [
            "\u001b[0;31m---------------------------------------------------------------------------\u001b[0m",
            "\u001b[0;31mFileNotFoundError\u001b[0m                         Traceback (most recent call last)",
            "\u001b[0;32m<ipython-input-14-8c07181d0802>\u001b[0m in \u001b[0;36m<module>\u001b[0;34m\u001b[0m\n\u001b[1;32m      3\u001b[0m \u001b[0mprint\u001b[0m\u001b[0;34m(\u001b[0m\u001b[0mos\u001b[0m\u001b[0;34m.\u001b[0m\u001b[0mgetcwd\u001b[0m\u001b[0;34m(\u001b[0m\u001b[0;34m)\u001b[0m\u001b[0;34m)\u001b[0m \u001b[0;31m#C:\\Users\\vsura\\PycharmProjects\\pythonProject\u001b[0m\u001b[0;34m\u001b[0m\u001b[0;34m\u001b[0m\u001b[0m\n\u001b[1;32m      4\u001b[0m \u001b[0mprint\u001b[0m\u001b[0;34m(\u001b[0m\u001b[0mos\u001b[0m\u001b[0;34m.\u001b[0m\u001b[0mlistdir\u001b[0m\u001b[0;34m(\u001b[0m\u001b[0;34m)\u001b[0m\u001b[0;34m)\u001b[0m \u001b[0;31m# Get list of all files in the directory\u001b[0m\u001b[0;34m\u001b[0m\u001b[0;34m\u001b[0m\u001b[0m\n\u001b[0;32m----> 5\u001b[0;31m \u001b[0mprint\u001b[0m\u001b[0;34m(\u001b[0m\u001b[0mos\u001b[0m\u001b[0;34m.\u001b[0m\u001b[0mlistdir\u001b[0m\u001b[0;34m(\u001b[0m\u001b[0;34m\"C:\\\\Users\\\\vsura\\\\PycharmProjects\\\\pythonProject\"\u001b[0m\u001b[0;34m)\u001b[0m\u001b[0;34m)\u001b[0m\u001b[0;34m\u001b[0m\u001b[0;34m\u001b[0m\u001b[0m\n\u001b[0m",
            "\u001b[0;31mFileNotFoundError\u001b[0m: [Errno 2] No such file or directory: 'C:\\\\Users\\\\vsura\\\\PycharmProjects\\\\pythonProject'"
          ]
        }
      ]
    },
    {
      "cell_type": "code",
      "source": [
        "## find if you have a txt file or not\n",
        "list=[]\n",
        "list=os.listdir()\n",
        "print(list)\n",
        "for i in list:\n",
        "    if i=='test.txt':\n",
        "        print (\"test.txt exists in the list\")"
      ],
      "metadata": {
        "colab": {
          "base_uri": "https://localhost:8080/"
        },
        "id": "mDOYLykl__1z",
        "outputId": "2be4920a-08ec-4122-9ac6-bd20841a38ef"
      },
      "execution_count": 15,
      "outputs": [
        {
          "output_type": "stream",
          "name": "stdout",
          "text": [
            "['.config', 'sample_data']\n"
          ]
        }
      ]
    }
  ]
}
