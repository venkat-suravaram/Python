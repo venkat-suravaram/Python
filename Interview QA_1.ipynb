{
 "cells": [
  {
   "cell_type": "code",
   "execution_count": 1,
   "id": "a1a0c8a5",
   "metadata": {},
   "outputs": [
    {
     "name": "stdout",
     "output_type": "stream",
     "text": [
      "20\n",
      "30\n",
      "2030\n"
     ]
    }
   ],
   "source": [
    "#What is the output of the given input\n",
    "# Not type casted\n",
    "# Default input type is str\n",
    "num1 = input()     #20\n",
    "num2 = input()     #30\n",
    "ans = num1 + num2\n",
    "print(ans)"
   ]
  },
  {
   "cell_type": "code",
   "execution_count": 2,
   "id": "1f7b0c4c",
   "metadata": {},
   "outputs": [
    {
     "ename": "TypeError",
     "evalue": "'set' object is not subscriptable",
     "output_type": "error",
     "traceback": [
      "\u001b[1;31m---------------------------------------------------------------------------\u001b[0m",
      "\u001b[1;31mTypeError\u001b[0m                                 Traceback (most recent call last)",
      "\u001b[1;32m~\\AppData\\Local\\Temp\\ipykernel_5996\\1015403818.py\u001b[0m in \u001b[0;36m<module>\u001b[1;34m\u001b[0m\n\u001b[0;32m      1\u001b[0m \u001b[0ma\u001b[0m \u001b[1;33m=\u001b[0m \u001b[1;33m{\u001b[0m\u001b[1;36m1\u001b[0m\u001b[1;33m,\u001b[0m\u001b[1;36m2\u001b[0m\u001b[1;33m,\u001b[0m\u001b[1;36m3\u001b[0m\u001b[1;33m,\u001b[0m\u001b[1;36m4\u001b[0m\u001b[1;33m,\u001b[0m\u001b[1;36m5\u001b[0m\u001b[1;33m}\u001b[0m\u001b[1;33m\u001b[0m\u001b[1;33m\u001b[0m\u001b[0m\n\u001b[1;32m----> 2\u001b[1;33m \u001b[0ma\u001b[0m\u001b[1;33m[\u001b[0m\u001b[1;36m2\u001b[0m\u001b[1;33m]\u001b[0m\u001b[1;33m\u001b[0m\u001b[1;33m\u001b[0m\u001b[0m\n\u001b[0m",
      "\u001b[1;31mTypeError\u001b[0m: 'set' object is not subscriptable"
     ]
    }
   ],
   "source": [
    "a = {1,2,3,4,5}\n",
    "a[2]\n",
    "# Data type is SET\n",
    "# Properties: Unique values , Unordered (We can't index set value)\n",
    "#OP: TypeError: 'set' object is not subscriptable"
   ]
  },
  {
   "cell_type": "code",
   "execution_count": 3,
   "id": "1d3515ae",
   "metadata": {},
   "outputs": [
    {
     "name": "stdout",
     "output_type": "stream",
     "text": [
      "True\n",
      "True\n",
      "3210619874160 3210619874160\n"
     ]
    }
   ],
   "source": [
    "# shallow copy\n",
    "a, b = 19, 19\n",
    "print(a == b)  #true\n",
    "print(a is b) #true\n",
    "print(id(a), id(b)) # 3210619874160 3210619874160\n",
    "# they use same memory location\n",
    "#Before Pythin3 they shared memory location is -3 ,25 "
   ]
  },
  {
   "cell_type": "code",
   "execution_count": 4,
   "id": "639806af",
   "metadata": {},
   "outputs": [
    {
     "name": "stdout",
     "output_type": "stream",
     "text": [
      "True\n",
      "False\n",
      "3210703245376 3210702462400\n"
     ]
    }
   ],
   "source": [
    "# Deep copy\n",
    "a, b = [19], [19]\n",
    "print(a == b)  #true\n",
    "print(a is b) #false\n",
    "print(id(a), id(b)) # 3210703245376 3210702462400\n",
    "# they use different memory location"
   ]
  },
  {
   "cell_type": "code",
   "execution_count": null,
   "id": "e98bd54a",
   "metadata": {},
   "outputs": [],
   "source": [
    "# Deep copy vs Shallow copy\n",
    "# shallow copy --> same memory address  (int, float, complex, str)\n",
    "# deep copy --> different memory address (list, tuple, dict)\n"
   ]
  }
 ],
 "metadata": {
  "kernelspec": {
   "display_name": "Python 3 (ipykernel)",
   "language": "python",
   "name": "python3"
  },
  "language_info": {
   "codemirror_mode": {
    "name": "ipython",
    "version": 3
   },
   "file_extension": ".py",
   "mimetype": "text/x-python",
   "name": "python",
   "nbconvert_exporter": "python",
   "pygments_lexer": "ipython3",
   "version": "3.9.13"
  }
 },
 "nbformat": 4,
 "nbformat_minor": 5
}
