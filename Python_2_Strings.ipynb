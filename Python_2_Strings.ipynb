{
  "nbformat": 4,
  "nbformat_minor": 0,
  "metadata": {
    "colab": {
      "provenance": [],
      "authorship_tag": "ABX9TyNPl+LlVntTAMr7nBRtD0la"
    },
    "kernelspec": {
      "name": "python3",
      "display_name": "Python 3"
    },
    "language_info": {
      "name": "python"
    }
  },
  "cells": [
    {
      "cell_type": "markdown",
      "source": [
        "**Strings**"
      ],
      "metadata": {
        "id": "gJyOhwblgTmg"
      }
    },
    {
      "cell_type": "code",
      "source": [
        "#Single line String vs Multi-Line String \n",
        "a = \"Hello\"\n",
        "print(a)\n",
        "\t\n",
        "\t\n",
        "a = \"\"\"Lorem ipsum dolor sit amet,\n",
        "consectetur adipiscing elit,\n",
        "sed do eiusmod tempor incididunt\n",
        "ut labore et dolore magna aliqua.\"\"\"\n",
        "print(a)"
      ],
      "metadata": {
        "colab": {
          "base_uri": "https://localhost:8080/"
        },
        "id": "86rvF61GgmF6",
        "outputId": "e1c7b698-7642-4dee-9f27-6eea57536a31"
      },
      "execution_count": 1,
      "outputs": [
        {
          "output_type": "stream",
          "name": "stdout",
          "text": [
            "Hello\n",
            "Lorem ipsum dolor sit amet,\n",
            "consectetur adipiscing elit,\n",
            "sed do eiusmod tempor incididunt\n",
            "ut labore et dolore magna aliqua.\n"
          ]
        }
      ]
    },
    {
      "cell_type": "code",
      "source": [
        "# Access elements of a string\n",
        "s=\"Hello friends\"\n",
        "print(s[0])"
      ],
      "metadata": {
        "colab": {
          "base_uri": "https://localhost:8080/"
        },
        "id": "txxQRdDmhGmQ",
        "outputId": "72e21747-58da-4df7-84fe-07cf42f6ab4d"
      },
      "execution_count": 3,
      "outputs": [
        {
          "output_type": "stream",
          "name": "stdout",
          "text": [
            "H\n"
          ]
        }
      ]
    },
    {
      "cell_type": "code",
      "source": [
        "# Find length of a string\n",
        "print(len(s))"
      ],
      "metadata": {
        "colab": {
          "base_uri": "https://localhost:8080/"
        },
        "id": "Ywe4QexihdFF",
        "outputId": "ad70861c-8e7c-4d87-f158-daccd5d58e7a"
      },
      "execution_count": 4,
      "outputs": [
        {
          "output_type": "stream",
          "name": "stdout",
          "text": [
            "13\n"
          ]
        }
      ]
    },
    {
      "cell_type": "code",
      "source": [
        "a = \"Hello, World!\"\n",
        "print(a.upper())\n",
        "print(a.lower())\n",
        "print(a.strip()) #Removes whitespaces\n",
        "print(a.replace(\"H\", \"J\"))\n",
        "print(a.split(\",\")) # returns ['Hello', ' World!']\n"
      ],
      "metadata": {
        "colab": {
          "base_uri": "https://localhost:8080/"
        },
        "id": "UCCqasglh0eD",
        "outputId": "36f0fec6-8d28-40e0-a082-9b04c2971967"
      },
      "execution_count": 5,
      "outputs": [
        {
          "output_type": "stream",
          "name": "stdout",
          "text": [
            "HELLO, WORLD!\n",
            "hello, world!\n",
            "Hello, World!\n",
            "Jello, World!\n",
            "['Hello', ' World!']\n"
          ]
        }
      ]
    },
    {
      "cell_type": "code",
      "source": [
        "age1=12\n",
        "age2=18\n",
        "print(type(age1))\n",
        "age1+age2\n"
      ],
      "metadata": {
        "colab": {
          "base_uri": "https://localhost:8080/"
        },
        "id": "qV3qVfFNjGhA",
        "outputId": "651b4fbc-6cb2-464c-c45d-a8f298638010"
      },
      "execution_count": 13,
      "outputs": [
        {
          "output_type": "stream",
          "name": "stdout",
          "text": [
            "<class 'int'>\n"
          ]
        },
        {
          "output_type": "execute_result",
          "data": {
            "text/plain": [
              "30"
            ]
          },
          "metadata": {},
          "execution_count": 13
        }
      ]
    },
    {
      "cell_type": "code",
      "source": [
        "age1-age2"
      ],
      "metadata": {
        "colab": {
          "base_uri": "https://localhost:8080/"
        },
        "id": "wdNlBUV2jsla",
        "outputId": "c0638bd2-4d24-4eed-96de-93070412ce57"
      },
      "execution_count": 10,
      "outputs": [
        {
          "output_type": "execute_result",
          "data": {
            "text/plain": [
              "-6"
            ]
          },
          "metadata": {},
          "execution_count": 10
        }
      ]
    },
    {
      "cell_type": "code",
      "source": [
        "age1*age2"
      ],
      "metadata": {
        "colab": {
          "base_uri": "https://localhost:8080/"
        },
        "id": "G0bC3g2ijvN5",
        "outputId": "bf307033-a32c-434f-a741-8f51d9210dda"
      },
      "execution_count": 11,
      "outputs": [
        {
          "output_type": "execute_result",
          "data": {
            "text/plain": [
              "216"
            ]
          },
          "metadata": {},
          "execution_count": 11
        }
      ]
    },
    {
      "cell_type": "code",
      "source": [
        "age1/age2"
      ],
      "metadata": {
        "colab": {
          "base_uri": "https://localhost:8080/"
        },
        "id": "ccvRD6jsjxqf",
        "outputId": "fa258bb8-c8ed-41ce-b744-4c24976b1aad"
      },
      "execution_count": 12,
      "outputs": [
        {
          "output_type": "execute_result",
          "data": {
            "text/plain": [
              "0.6666666666666666"
            ]
          },
          "metadata": {},
          "execution_count": 12
        }
      ]
    },
    {
      "cell_type": "markdown",
      "source": [
        "Accessing String using index"
      ],
      "metadata": {
        "id": "lwsWBebekPNg"
      }
    },
    {
      "cell_type": "code",
      "source": [
        "\n",
        "firstname=\"Venkat\"\n",
        "lastname=\"suravaram\"\n",
        "firstname+lastname"
      ],
      "metadata": {
        "colab": {
          "base_uri": "https://localhost:8080/",
          "height": 35
        },
        "id": "PhhHG1cejjwL",
        "outputId": "f36fd400-5920-4e51-e3e0-27860ddc69b8"
      },
      "execution_count": 14,
      "outputs": [
        {
          "output_type": "execute_result",
          "data": {
            "text/plain": [
              "'Venkatsuravaram'"
            ],
            "application/vnd.google.colaboratory.intrinsic+json": {
              "type": "string"
            }
          },
          "metadata": {},
          "execution_count": 14
        }
      ]
    },
    {
      "cell_type": "code",
      "source": [
        "firstname + \" \"+lastname"
      ],
      "metadata": {
        "colab": {
          "base_uri": "https://localhost:8080/",
          "height": 35
        },
        "id": "AftoKzE1j8_9",
        "outputId": "1dcf271d-c6a0-4a49-d53d-59b06d328dc7"
      },
      "execution_count": 15,
      "outputs": [
        {
          "output_type": "execute_result",
          "data": {
            "text/plain": [
              "'Venkat suravaram'"
            ],
            "application/vnd.google.colaboratory.intrinsic+json": {
              "type": "string"
            }
          },
          "metadata": {},
          "execution_count": 15
        }
      ]
    },
    {
      "cell_type": "code",
      "source": [
        "a = \"venkat watching tv\" #Every char stores as Index , starts from 0\n",
        "a[0]\n"
      ],
      "metadata": {
        "colab": {
          "base_uri": "https://localhost:8080/",
          "height": 35
        },
        "id": "RFeip2NBkBHh",
        "outputId": "0807554e-afb2-481b-a09c-36c080bc25a2"
      },
      "execution_count": 16,
      "outputs": [
        {
          "output_type": "execute_result",
          "data": {
            "text/plain": [
              "'v'"
            ],
            "application/vnd.google.colaboratory.intrinsic+json": {
              "type": "string"
            }
          },
          "metadata": {},
          "execution_count": 16
        }
      ]
    },
    {
      "cell_type": "code",
      "source": [
        "a[0:6]"
      ],
      "metadata": {
        "colab": {
          "base_uri": "https://localhost:8080/",
          "height": 35
        },
        "id": "x64ZMIFLkGLE",
        "outputId": "d0b31034-3a65-4c8c-8658-36c9d49a3091"
      },
      "execution_count": 17,
      "outputs": [
        {
          "output_type": "execute_result",
          "data": {
            "text/plain": [
              "'venkat'"
            ],
            "application/vnd.google.colaboratory.intrinsic+json": {
              "type": "string"
            }
          },
          "metadata": {},
          "execution_count": 17
        }
      ]
    },
    {
      "cell_type": "code",
      "source": [
        "a[:6]"
      ],
      "metadata": {
        "colab": {
          "base_uri": "https://localhost:8080/",
          "height": 35
        },
        "id": "U9Krw9rQkJpa",
        "outputId": "7af0400a-50e1-4ba9-d271-d51688d00328"
      },
      "execution_count": 18,
      "outputs": [
        {
          "output_type": "execute_result",
          "data": {
            "text/plain": [
              "'venkat'"
            ],
            "application/vnd.google.colaboratory.intrinsic+json": {
              "type": "string"
            }
          },
          "metadata": {},
          "execution_count": 18
        }
      ]
    },
    {
      "cell_type": "code",
      "source": [
        "a[:-2]"
      ],
      "metadata": {
        "id": "wTkbbA1CkMfj"
      },
      "execution_count": null,
      "outputs": []
    },
    {
      "cell_type": "markdown",
      "source": [
        "**Scaling , jump, step value**"
      ],
      "metadata": {
        "id": "ARf_HnUDkiv1"
      }
    },
    {
      "cell_type": "code",
      "source": [
        "s=\"Happy learning\"\n",
        "print(\"s[0] is: \",s[0]) # By deafult index start from 0   scale will be like 0,1,2,3,4,5 same way it travels reverse -6,-5,-4,-3,-2,-1\n",
        "print(\" is: \",s[::]) # 0 to end with jump 1 default\n",
        "print(\"s[0:100:2] is: \",s[0:100:2]) # jumping 2 indexes\n",
        "print(\"s[5:7:1] is : \",s[5:7:1]) # forward with jump 1\n",
        "print(\"s[5:1:1] is : \",s[5:1:1]) # scale backward direction but directed to jump forward so its confused then no result\n",
        "print(\"s[0:100:-1] is : \",s[0:100:-1]) # scale forward direction but jump directed negative side so its confused then No result\n",
        "print(\"s[100:0:-1] is: \",s[100:0:-1]) # Scale and jump both backward same direction"
      ],
      "metadata": {
        "colab": {
          "base_uri": "https://localhost:8080/"
        },
        "id": "_2qoBcQqknt7",
        "outputId": "9ebf4e6b-b5fc-4169-8740-1826a17e41c8"
      },
      "execution_count": 26,
      "outputs": [
        {
          "output_type": "stream",
          "name": "stdout",
          "text": [
            "s[0] is:  H\n",
            " is:  Happy learning\n",
            "s[0:100:2] is:  Hpylann\n",
            "s[5:7:1] is :   l\n",
            "s[5:1:1] is :  \n",
            "s[0:100:-1 is :  \n",
            "s[100:0:-1 is:  gninrael yppa\n"
          ]
        }
      ]
    },
    {
      "cell_type": "code",
      "source": [
        "#spaceremoval,Rightandleft\n",
        "a=\"venkatisgreat\"\n",
        "print(a.rstrip())\n",
        "print(a.lstrip())\n",
        "print(a.strip())\n",
        "\t\t\n",
        "print(a.replace(\"v\",\"xyz\"))#ReplaceVwithxyz,ifvisnotthereitwillnotreplace\n",
        "print(\"venkat\\tSuravaram\".expandtabs())#Removetabspaceinthestring\n",
        "a=\"venkat\"\n",
        "print(a.center(40,'t'))#tttttttttttttttttvenkatttttttttttttttttt//reserves40charsandplacesnameinmiddle\n",
        "print(a.isupper())#False\n",
        "print(a.islower())#True\n",
        "print(a.isspace())#False\n",
        "print(a.isdigit())#checksifithasnumbers//False\n",
        "print(a.endswith('t'))#True\n",
        "print(a.startswith('a'))#False"
      ],
      "metadata": {
        "colab": {
          "base_uri": "https://localhost:8080/"
        },
        "id": "342F4Vx_m3_B",
        "outputId": "539a02d6-4952-405e-8d62-6834e4660d3f"
      },
      "execution_count": 25,
      "outputs": [
        {
          "output_type": "stream",
          "name": "stdout",
          "text": [
            "venkatisgreat\n",
            "venkatisgreat\n",
            "venkatisgreat\n",
            "xyzenkatisgreat\n",
            "venkat  Suravaram\n",
            "tttttttttttttttttvenkatttttttttttttttttt\n",
            "False\n",
            "True\n",
            "False\n",
            "False\n",
            "True\n",
            "False\n"
          ]
        }
      ]
    }
  ]
}
