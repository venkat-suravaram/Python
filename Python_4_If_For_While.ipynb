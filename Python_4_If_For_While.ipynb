{
  "nbformat": 4,
  "nbformat_minor": 0,
  "metadata": {
    "colab": {
      "provenance": [],
      "authorship_tag": "ABX9TyP5qXzzQnCwl8Fx5sRvehyU"
    },
    "kernelspec": {
      "name": "python3",
      "display_name": "Python 3"
    },
    "language_info": {
      "name": "python"
    }
  },
  "cells": [
    {
      "cell_type": "markdown",
      "source": [
        "**If**"
      ],
      "metadata": {
        "id": "8suNauBdvQp6"
      }
    },
    {
      "cell_type": "code",
      "execution_count": 2,
      "metadata": {
        "colab": {
          "base_uri": "https://localhost:8080/"
        },
        "id": "BFaQfVTkr9ST",
        "outputId": "4138e7a5-ced3-470c-fae7-b7dae32a3a3f"
      },
      "outputs": [
        {
          "output_type": "stream",
          "name": "stdout",
          "text": [
            "b is greater than a\n"
          ]
        }
      ],
      "source": [
        "# If is a key word / control flow\n",
        "# In most programming lang we use { } curly bases to put a code but Python not need : and indentation (White space before the statement) to identify code\n",
        "# If you want to understand a code in Python just go line by line\n",
        "\n",
        "a = 33\n",
        "b = 200\n",
        "if b > a:\n",
        "    print(\"b is greater than a\")"
      ]
    },
    {
      "cell_type": "code",
      "source": [
        "a=10\n",
        "if a > 15 : # Returns true\n",
        "    pass  # Dont act / do nothing\n",
        "if a < 15:\n",
        "    print(\"10 is lesser than 15\")\n",
        "\n",
        "if 24 < 15:\n",
        "    print(\"if loop \") # not going to execute as 24 < 15 is false"
      ],
      "metadata": {
        "colab": {
          "base_uri": "https://localhost:8080/"
        },
        "id": "Th6huUq2s1U7",
        "outputId": "da41a1b5-a97e-44f0-cc8e-6763bf1095cd"
      },
      "execution_count": 3,
      "outputs": [
        {
          "output_type": "stream",
          "name": "stdout",
          "text": [
            "10 is lesser than 15\n"
          ]
        }
      ]
    },
    {
      "cell_type": "code",
      "source": [
        "a = 33\n",
        "b = 33\n",
        "if b > a:\n",
        "  print(\"b is greater than a\")\n",
        "elif a == b:\n",
        "  print(\"a and b are equal\")"
      ],
      "metadata": {
        "colab": {
          "base_uri": "https://localhost:8080/"
        },
        "id": "jkDXKiXdtEgp",
        "outputId": "d83582c8-aa19-4426-8312-cfd22f7a90be"
      },
      "execution_count": 4,
      "outputs": [
        {
          "output_type": "stream",
          "name": "stdout",
          "text": [
            "a and b are equal\n"
          ]
        }
      ]
    },
    {
      "cell_type": "code",
      "source": [
        "a = 200\n",
        "b = 33\n",
        "if b > a:\n",
        "  print(\"b is greater than a\")\n",
        "elif a == b:\n",
        "  print(\"a and b are equal\")\n",
        "else:\n",
        "  print(\"a is greater than b\")"
      ],
      "metadata": {
        "colab": {
          "base_uri": "https://localhost:8080/"
        },
        "id": "ZCmkHIGWtLRR",
        "outputId": "a488005b-a1f0-40e0-c0b4-f8610ad220b5"
      },
      "execution_count": 5,
      "outputs": [
        {
          "output_type": "stream",
          "name": "stdout",
          "text": [
            "a is greater than b\n"
          ]
        }
      ]
    },
    {
      "cell_type": "code",
      "source": [
        "####################################\n",
        "if 30 < 10 :\n",
        "    print(\" 30 lesser than 10\")\n",
        "else :\n",
        "    print(\"if statement is wrong\")"
      ],
      "metadata": {
        "colab": {
          "base_uri": "https://localhost:8080/"
        },
        "id": "uNkxSNFXtUIb",
        "outputId": "e1e05d7b-1492-4583-8f70-b03c8a8b13af"
      },
      "execution_count": 7,
      "outputs": [
        {
          "output_type": "stream",
          "name": "stdout",
          "text": [
            "if statement is wrong\n"
          ]
        }
      ]
    },
    {
      "cell_type": "code",
      "source": [
        "# Nested if , if you want to use multiple if conditions use elif keyword\n",
        "income=int(input()) # input(\"enter salary \") # input always a takes as string to use like income=int(input())\n",
        "if income < 50 :\n",
        "    print(\"i will buy phone\")\n",
        "elif income < 70 :\n",
        "    print(\"i will buy car\")\n",
        "elif income < 90 :\n",
        "    print(\"i will buy house\")\n",
        "else :\n",
        "    print(\"i will buy everything\")"
      ],
      "metadata": {
        "colab": {
          "base_uri": "https://localhost:8080/"
        },
        "id": "w2mYGZ2TtfNf",
        "outputId": "10cc4833-787c-4d2c-a1cd-1cf72985195f"
      },
      "execution_count": 8,
      "outputs": [
        {
          "output_type": "stream",
          "name": "stdout",
          "text": [
            "50\n",
            "i will buy car\n"
          ]
        }
      ]
    },
    {
      "cell_type": "code",
      "source": [
        "###### Discount program\n",
        "Total_price = int(input(\"Enter course price: \"))\n",
        "if Total_price > 20000 :\n",
        "    discount = Total_price * .20\n",
        "    print(\"Discount will be \", discount)\n",
        "elif Total_price <= 7000 :\n",
        "    discount = Total_price * .05\n",
        "    print (\"Discount will be \", discount)\n",
        "else:\n",
        "    print (\"wont be able to give any discount\")"
      ],
      "metadata": {
        "colab": {
          "base_uri": "https://localhost:8080/"
        },
        "id": "Q1vO_3mxtqg1",
        "outputId": "3d0d171d-31ce-4b9d-dd46-ce115932f625"
      },
      "execution_count": 9,
      "outputs": [
        {
          "output_type": "stream",
          "name": "stdout",
          "text": [
            "Enter course price: 20000\n",
            "wont be able to give any discount\n"
          ]
        }
      ]
    },
    {
      "cell_type": "code",
      "source": [
        "coup = input(\"Enter coup code here: \") # input() mentod by default takes as string\n",
        "if coup == \"RANDAAS5\" :\n",
        "    print(\"you will be able to get discount of %5\")\n",
        "else:\n",
        "    print(\"Kindly use a valid coup code\")"
      ],
      "metadata": {
        "colab": {
          "base_uri": "https://localhost:8080/"
        },
        "id": "NV-Tj8fVt6Kv",
        "outputId": "6a4572f1-a506-4f61-bce0-a316c5416707"
      },
      "execution_count": 11,
      "outputs": [
        {
          "output_type": "stream",
          "name": "stdout",
          "text": [
            "Enter coup code here: SUMMER45\n",
            "Kindly use a valid coup code\n"
          ]
        }
      ]
    },
    {
      "cell_type": "code",
      "source": [
        "study_hr=int(input(\"Enter daily time spent to learn course in hrs: \"))\n",
        "if study_hr < 1:\n",
        "    print(\"It may take 8 to 10 months to transf\")\n",
        "elif study_hr < 4 and study_hr > 1 :\n",
        "    print(\"it may take 6 months to tansfarm\")\n",
        "elif study_hr > 10:\n",
        "    print(\"it will take 3 months to tranf\")\n",
        "else:\n",
        "    print(\"it will be difficult to get a job\")"
      ],
      "metadata": {
        "colab": {
          "base_uri": "https://localhost:8080/"
        },
        "id": "BmmF8N_9uG7N",
        "outputId": "108ad2f9-9e06-4e3e-e614-4de0a6bfe6f0"
      },
      "execution_count": 13,
      "outputs": [
        {
          "output_type": "stream",
          "name": "stdout",
          "text": [
            "Enter daily time spent to learn course in hrs: 9\n",
            "it will be difficult to get a job\n"
          ]
        }
      ]
    },
    {
      "cell_type": "code",
      "source": [
        "#Nested If\n",
        "s=input('enter insti name')\n",
        "course=input('enter course name')\n",
        "if s == 'oneneuron' :\n",
        "    if course =='dsa':\n",
        "        print(\"yes its available\")\n",
        "    elif course == 'blockchain':\n",
        "        print(\"its not available , kindly raise a demand request\")\n",
        "    elif course == 'fsds':\n",
        "        print(\"fsds is available as part of oneneuron\")\n",
        "    else:\n",
        "        print(\"none of the courses available\")\n",
        "elif s =='oneplus':\n",
        "    if course == 'c++':\n",
        "        print(\"C++ course is available in oneplus\")\n",
        "    else:\n",
        "        print(\"course is not available in oneplus\")\n",
        "else:\n",
        "    print(\"enter a valid institute name\")"
      ],
      "metadata": {
        "colab": {
          "base_uri": "https://localhost:8080/"
        },
        "id": "IWntGuFHunXn",
        "outputId": "6be5c08e-22ce-46da-f783-7c35c69d3c5d"
      },
      "execution_count": 14,
      "outputs": [
        {
          "output_type": "stream",
          "name": "stdout",
          "text": [
            "enter insti nameSSJ\n",
            "enter course namedsa\n",
            "enter a valid institute name\n"
          ]
        }
      ]
    },
    {
      "cell_type": "markdown",
      "source": [
        "**For**\n",
        "\n",
        "Always work with length of collection.\n",
        "When number of iterations are known .\n",
        "A for loop is used for iterating over a sequence (that is either a list, a tuple, a dictionary, a set, or a string).\n",
        "With the for loop we can execute a set of statements, once for each item in a list, tuple, set etc\n",
        "\n"
      ],
      "metadata": {
        "id": "l_I4BOhqvIXB"
      }
    },
    {
      "cell_type": "code",
      "source": [
        "l=[1,2,3,4,5,6,7]\n",
        "print(l)\n",
        "print(type(l))"
      ],
      "metadata": {
        "colab": {
          "base_uri": "https://localhost:8080/"
        },
        "id": "Z923xYj7vHSP",
        "outputId": "706eaf12-269b-436f-eb16-fe1d09a53f31"
      },
      "execution_count": 15,
      "outputs": [
        {
          "output_type": "stream",
          "name": "stdout",
          "text": [
            "[1, 2, 3, 4, 5, 6, 7]\n",
            "<class 'list'>\n"
          ]
        }
      ]
    },
    {
      "cell_type": "code",
      "source": [
        "fruits = [\"apple\", \"banana\", \"cherry\"]\n",
        "print(type(fruits))\n",
        "for x in fruits:\n",
        "  print(x)"
      ],
      "metadata": {
        "colab": {
          "base_uri": "https://localhost:8080/"
        },
        "id": "DvHb4p9rwBV3",
        "outputId": "fc6b82ad-b33e-441b-934b-eda4789f737b"
      },
      "execution_count": 19,
      "outputs": [
        {
          "output_type": "stream",
          "name": "stdout",
          "text": [
            "<class 'list'>\n",
            "apple\n",
            "banana\n",
            "cherry\n"
          ]
        }
      ]
    },
    {
      "cell_type": "code",
      "source": [
        "for i in l:  # i local variable for for loop to store value temp\n",
        "    print(i)"
      ],
      "metadata": {
        "colab": {
          "base_uri": "https://localhost:8080/"
        },
        "id": "TOS9rTdEvozL",
        "outputId": "266b3bf6-df18-4d94-f055-280b9c40011e"
      },
      "execution_count": 16,
      "outputs": [
        {
          "output_type": "stream",
          "name": "stdout",
          "text": [
            "1\n",
            "2\n",
            "3\n",
            "4\n",
            "5\n",
            "6\n",
            "7\n"
          ]
        }
      ]
    },
    {
      "cell_type": "code",
      "source": [
        "for i in 'Jonny' :\n",
        "    print(i)"
      ],
      "metadata": {
        "colab": {
          "base_uri": "https://localhost:8080/"
        },
        "id": "n-lZmH8JvvyG",
        "outputId": "03437a70-6b5f-4e1a-eb37-def080b5b410"
      },
      "execution_count": 17,
      "outputs": [
        {
          "output_type": "stream",
          "name": "stdout",
          "text": [
            "J\n",
            "o\n",
            "n\n",
            "n\n",
            "y\n"
          ]
        }
      ]
    },
    {
      "cell_type": "code",
      "source": [
        "l=[1,2.2,'Asdf',True,4+7j]\n",
        "for i in l:\n",
        "    print(type(i))"
      ],
      "metadata": {
        "colab": {
          "base_uri": "https://localhost:8080/"
        },
        "id": "yMVHa1AAv07K",
        "outputId": "d9f413ef-1390-4a23-c76f-aca0b9b4c908"
      },
      "execution_count": 18,
      "outputs": [
        {
          "output_type": "stream",
          "name": "stdout",
          "text": [
            "<class 'int'>\n",
            "<class 'float'>\n",
            "<class 'str'>\n",
            "<class 'bool'>\n",
            "<class 'complex'>\n"
          ]
        }
      ]
    },
    {
      "cell_type": "code",
      "source": [
        "l=[1,2,3,4,5,6,7]\n",
        "l2=[]\n",
        "for i in l:\n",
        "    #print(i+2)\n",
        "    l2.append(i+2)\n",
        "    print(l2)"
      ],
      "metadata": {
        "colab": {
          "base_uri": "https://localhost:8080/"
        },
        "id": "lTgVtFGbwXGl",
        "outputId": "a832926b-ecde-4c08-f080-211ac591c251"
      },
      "execution_count": 21,
      "outputs": [
        {
          "output_type": "stream",
          "name": "stdout",
          "text": [
            "[3]\n",
            "[3, 4]\n",
            "[3, 4, 5]\n",
            "[3, 4, 5, 6]\n",
            "[3, 4, 5, 6, 7]\n",
            "[3, 4, 5, 6, 7, 8]\n",
            "[3, 4, 5, 6, 7, 8, 9]\n"
          ]
        }
      ]
    },
    {
      "cell_type": "code",
      "source": [
        "##################  Get integers from the list\n",
        "l=[2,45,78,12,\"venkat\",6+7j,[56,67,78]]\n",
        "l1=[]\n",
        "for i in l:\n",
        "    if type(i) == int :\n",
        "        l1.append(i)\n",
        "        #print(l1)\n",
        "print(l1)"
      ],
      "metadata": {
        "colab": {
          "base_uri": "https://localhost:8080/"
        },
        "id": "DBZY_mIRwkon",
        "outputId": "fc2b7d71-d088-4fe5-d987-308c11c3fab3"
      },
      "execution_count": 23,
      "outputs": [
        {
          "output_type": "stream",
          "name": "stdout",
          "text": [
            "[2, 45, 78, 12]\n"
          ]
        }
      ]
    },
    {
      "cell_type": "code",
      "source": [
        "################## For else --- Only exists in Python\n",
        "l=[2,45,78,12,\"venkat\",6+7j,[56,67,78]]\n",
        "l1 = []\n",
        "l2=[]\n",
        "l3 = []\n",
        "for i in l:\n",
        "    l1.append((l.index(i))) # Print index of all the elements\n",
        "   # print(\"index\" , i , \"for an element\", l[i])\n",
        "    if type(i) == str : # extract all str chars\n",
        "        l2.append(i)\n",
        "    elif type(i) == int:\n",
        "        l3.append(i**2)  # Square of an int element\n",
        "print(l1, l2, l3)"
      ],
      "metadata": {
        "colab": {
          "base_uri": "https://localhost:8080/"
        },
        "id": "IWLUOL7vwunt",
        "outputId": "017873a9-88b9-4ad4-f9e5-176a6b963b03"
      },
      "execution_count": 24,
      "outputs": [
        {
          "output_type": "stream",
          "name": "stdout",
          "text": [
            "[0, 1, 2, 3, 4, 5, 6] ['venkat'] [4, 2025, 6084, 144]\n"
          ]
        }
      ]
    },
    {
      "cell_type": "code",
      "source": [
        "##############################  Display sum of even numbers from the list\n",
        "numbers = [12, 75, 150, 180, 145, 525, 50]\n",
        "n2=[]\n",
        "for i in numbers :\n",
        "    if i %2 ==0 :\n",
        "        n2.append(i)\n",
        "print(n2)"
      ],
      "metadata": {
        "colab": {
          "base_uri": "https://localhost:8080/"
        },
        "id": "BFOwLp0Qw1wS",
        "outputId": "63d4f3e0-ad20-401d-fb27-9d3f4e5e8184"
      },
      "execution_count": 25,
      "outputs": [
        {
          "output_type": "stream",
          "name": "stdout",
          "text": [
            "[12, 150, 180, 50]\n"
          ]
        }
      ]
    },
    {
      "cell_type": "code",
      "source": [
        "s='string'\n",
        "for i in s :\n",
        "    print(i)\n",
        "else:  # If for loop is going to complete itself then it will come to else\n",
        "    print(\"i am from else\")"
      ],
      "metadata": {
        "colab": {
          "base_uri": "https://localhost:8080/"
        },
        "id": "pca3Ejvgw5Nc",
        "outputId": "24ec9372-95bd-463d-a426-d0c05a058f8a"
      },
      "execution_count": 26,
      "outputs": [
        {
          "output_type": "stream",
          "name": "stdout",
          "text": [
            "s\n",
            "t\n",
            "r\n",
            "i\n",
            "n\n",
            "g\n",
            "i am from else\n"
          ]
        }
      ]
    },
    {
      "cell_type": "code",
      "source": [
        "s='string'\n",
        "for i in s :\n",
        "    if i =='n':\n",
        "        break\n",
        "    print(i)\n",
        "else:  # If for loop is going to complete itself then it will come to else\n",
        "    print(\"i am from else\")"
      ],
      "metadata": {
        "colab": {
          "base_uri": "https://localhost:8080/"
        },
        "id": "nv2klnQEw90M",
        "outputId": "45604c8e-de67-48af-8ea2-2f92f6a6377c"
      },
      "execution_count": 27,
      "outputs": [
        {
          "output_type": "stream",
          "name": "stdout",
          "text": [
            "s\n",
            "t\n",
            "r\n",
            "i\n"
          ]
        }
      ]
    },
    {
      "cell_type": "markdown",
      "source": [
        "**While**  \n",
        "Always work with condition.  \n",
        "When number of iterations are unknown.  \n",
        "With the while loop we can execute a set of statements as long as a condition is true.  \n",
        "remember to increment i, or else the loop will continue forever."
      ],
      "metadata": {
        "id": "RYu8l6X5xIDm"
      }
    },
    {
      "cell_type": "code",
      "source": [
        "i = 1\n",
        "while i < 6: #always check weather its True / false ; if Its TRUE then it goes into loop\n",
        "  print(i)\n",
        "  i += 1"
      ],
      "metadata": {
        "colab": {
          "base_uri": "https://localhost:8080/"
        },
        "id": "7NZVnCmvxOPY",
        "outputId": "bfc1aae0-1158-4aee-acf0-13eab59c5066"
      },
      "execution_count": 28,
      "outputs": [
        {
          "output_type": "stream",
          "name": "stdout",
          "text": [
            "1\n",
            "2\n",
            "3\n",
            "4\n",
            "5\n"
          ]
        }
      ]
    },
    {
      "cell_type": "code",
      "source": [
        "a=1\n",
        "while a<5:\n",
        "    print(a) # True prints a\n",
        "    if a==4: # False so no break\n",
        "        break\n",
        "    a=a+1"
      ],
      "metadata": {
        "colab": {
          "base_uri": "https://localhost:8080/"
        },
        "id": "lE4BcbSYxaY5",
        "outputId": "6965220e-9175-4ce2-f422-278b9bbf0660"
      },
      "execution_count": 29,
      "outputs": [
        {
          "output_type": "stream",
          "name": "stdout",
          "text": [
            "1\n",
            "2\n",
            "3\n",
            "4\n"
          ]
        }
      ]
    },
    {
      "cell_type": "code",
      "source": [
        "a=1\n",
        "while a<5:\n",
        "    print(a) # True prints a\n",
        "    if a==3:# when 3==3 TRUE it triggers continue  .... Here it goes into infinite loop 1233333333\n",
        "        continue # Directly takes to while loop without executing next line\n",
        "    a=a+1"
      ],
      "metadata": {
        "id": "ZRS1y3E5xowf"
      },
      "execution_count": null,
      "outputs": []
    },
    {
      "cell_type": "code",
      "source": [
        "# correct answer for above program\n",
        "a=1\n",
        "while a<5:\n",
        "    print(a) # True prints a\n",
        "    a = a + 1\n",
        "    if a==3:# when 3==3 TRUE it triggers continue  .... Here it goes into infinite loop 1233333333\n",
        "        continue # Directly takes to while loop without executing next line\n"
      ],
      "metadata": {
        "colab": {
          "base_uri": "https://localhost:8080/"
        },
        "id": "V08APAxZxz1e",
        "outputId": "8e17d01b-4211-48fc-cbef-c6c60d1e5b9e"
      },
      "execution_count": 31,
      "outputs": [
        {
          "output_type": "stream",
          "name": "stdout",
          "text": [
            "1\n",
            "2\n",
            "3\n",
            "4\n"
          ]
        }
      ]
    },
    {
      "cell_type": "code",
      "source": [
        "a=10\n",
        "while a<5:\n",
        "    pass"
      ],
      "metadata": {
        "id": "raiESP33x8nN"
      },
      "execution_count": 32,
      "outputs": []
    },
    {
      "cell_type": "code",
      "source": [
        "print(\"range(6): \",list(range(6))) #try to generate data except last / upperbound 0,1,2,3,4,5 / by default step size is 1\n",
        "print(\"range(0,6) of is: \",list(range(0,6))) # Starting from 0 to 6 ; 0,1,2,3,4,5\n",
        "print(\"range(3, 50, 2) is: \",list(range(3, 50, 2))) #3,5,7,9,11 till 50 ; here 2 is jump value/step value\n",
        "print(\"range(3,10,-1) is: \",list(range(3,10,-1))) #Output [ ] , going from 3 to 4 direction but jump has reverse direction so there is a conflict so output is blank\n",
        "print(\"range(10,6,-1) is: \",list(range(10,6,-1))) #[10, 9, 8, 7]   -5,-4,-3,-2,-1 0 1,2,3,4,5,6,7,8,9,10\n",
        "print(\"range(10,-5,-2) is: \",list(range(10,-5,-2))) # [10, 8, 6, 4, 2, 0, -2, -4]\n"
      ],
      "metadata": {
        "colab": {
          "base_uri": "https://localhost:8080/"
        },
        "id": "xKsgyN3IyCkt",
        "outputId": "27263757-1a4b-4d92-f057-99b9f2e1e4c5"
      },
      "execution_count": 37,
      "outputs": [
        {
          "output_type": "stream",
          "name": "stdout",
          "text": [
            "range(6):  [0, 1, 2, 3, 4, 5]\n",
            "range(0,6) of is:  [0, 1, 2, 3, 4, 5]\n",
            "range(3, 50, 2) is:  [3, 5, 7, 9, 11, 13, 15, 17, 19, 21, 23, 25, 27, 29, 31, 33, 35, 37, 39, 41, 43, 45, 47, 49]\n",
            "range(3,10,-1) is:  []\n",
            "range(10,6,-1) is:  [10, 9, 8, 7]\n",
            "range(10,-5,-2) is:  [10, 8, 6, 4, 2, 0, -2, -4]\n"
          ]
        }
      ]
    },
    {
      "cell_type": "code",
      "source": [
        "\n",
        "for i in range(7):\n",
        "    print(i)"
      ],
      "metadata": {
        "colab": {
          "base_uri": "https://localhost:8080/"
        },
        "id": "Nn6DJk-xy-nG",
        "outputId": "9bfe79c0-ca67-47dd-9c2d-7b59a0325076"
      },
      "execution_count": 38,
      "outputs": [
        {
          "output_type": "stream",
          "name": "stdout",
          "text": [
            "0\n",
            "1\n",
            "2\n",
            "3\n",
            "4\n",
            "5\n",
            "6\n"
          ]
        }
      ]
    },
    {
      "cell_type": "code",
      "source": [
        "##############################  Pyramid print\n",
        "n=5\n",
        "for i in range (0,n):\n",
        "    for j in range(0,i+1):\n",
        "        print(\"*\" , end=\"\") # by default end value is \\n , here it appends something at the end of value\n",
        "    print(\"\\r\")"
      ],
      "metadata": {
        "colab": {
          "base_uri": "https://localhost:8080/"
        },
        "id": "Q_XQrx1lzauP",
        "outputId": "47c35367-63d1-4417-d36f-7e439ff4d1e3"
      },
      "execution_count": 39,
      "outputs": [
        {
          "output_type": "stream",
          "name": "stdout",
          "text": [
            "*\r\n",
            "**\r\n",
            "***\r\n",
            "****\r\n",
            "*****\r\n"
          ]
        }
      ]
    },
    {
      "cell_type": "code",
      "source": [
        "############################### Get indexes of values\n",
        "t=(3,4,4,5,6,7,7,8)\n",
        "for i in range(len(t)):\n",
        "    print(i, t[i])\n"
      ],
      "metadata": {
        "colab": {
          "base_uri": "https://localhost:8080/"
        },
        "id": "Wqn3pCZ1zg6C",
        "outputId": "7fb41fa9-f4c7-4476-ebe3-8e3f1e6ed047"
      },
      "execution_count": 40,
      "outputs": [
        {
          "output_type": "stream",
          "name": "stdout",
          "text": [
            "0 3\n",
            "1 4\n",
            "2 4\n",
            "3 5\n",
            "4 6\n",
            "5 7\n",
            "6 7\n",
            "7 8\n"
          ]
        }
      ]
    },
    {
      "cell_type": "code",
      "source": [
        "\n",
        "t=(3,4,4,5,6,7,7,8)\n",
        "print(t[::-1]) # print reverse direction\n",
        "for i in range(len(t)-1 , 0 , -1): # OP: 8776544 ; no 3 because excludes upperbound\n",
        "    print(t[i])"
      ],
      "metadata": {
        "colab": {
          "base_uri": "https://localhost:8080/"
        },
        "id": "-TmC7E07zjz2",
        "outputId": "dc3a23a8-6a1a-4462-dd9d-84dfcc9a8f64"
      },
      "execution_count": 41,
      "outputs": [
        {
          "output_type": "stream",
          "name": "stdout",
          "text": [
            "(8, 7, 7, 6, 5, 4, 4, 3)\n",
            "8\n",
            "7\n",
            "7\n",
            "6\n",
            "5\n",
            "4\n",
            "4\n"
          ]
        }
      ]
    },
    {
      "cell_type": "code",
      "source": [
        "t=(3,4,4,5,6,7,7,8)\n",
        "#print(t[::-1]) # print reverse direction\n",
        "for i in range(len(t)-1 , -1 , -1): # OP: 87765443\n",
        "    print(t[i])"
      ],
      "metadata": {
        "colab": {
          "base_uri": "https://localhost:8080/"
        },
        "id": "V3th7ORAzllb",
        "outputId": "f34102a7-c095-45b6-a837-d1dfa99b5b7f"
      },
      "execution_count": 42,
      "outputs": [
        {
          "output_type": "stream",
          "name": "stdout",
          "text": [
            "8\n",
            "7\n",
            "7\n",
            "6\n",
            "5\n",
            "4\n",
            "4\n",
            "3\n"
          ]
        }
      ]
    },
    {
      "cell_type": "code",
      "source": [
        "t=(3,4,4,5,6,7,7,8)\n",
        "#print(t[::-1]) # print reverse direction\n",
        "for i in range(len(t)-1 , , -1): # Error not going to work\n",
        "    print(t[i])"
      ],
      "metadata": {
        "colab": {
          "base_uri": "https://localhost:8080/",
          "height": 131
        },
        "id": "1d3oUyXVzoiM",
        "outputId": "76623522-534b-4ef8-806e-46801bc2d06e"
      },
      "execution_count": 43,
      "outputs": [
        {
          "output_type": "error",
          "ename": "SyntaxError",
          "evalue": "ignored",
          "traceback": [
            "\u001b[0;36m  File \u001b[0;32m\"<ipython-input-43-f042da24fe1e>\"\u001b[0;36m, line \u001b[0;32m3\u001b[0m\n\u001b[0;31m    for i in range(len(t)-1 , , -1): # Error not going to work\u001b[0m\n\u001b[0m                              ^\u001b[0m\n\u001b[0;31mSyntaxError\u001b[0m\u001b[0;31m:\u001b[0m invalid syntax\n"
          ]
        }
      ]
    }
  ]
}