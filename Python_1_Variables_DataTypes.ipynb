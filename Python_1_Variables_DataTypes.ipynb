{
  "nbformat": 4,
  "nbformat_minor": 0,
  "metadata": {
    "colab": {
      "provenance": [],
      "authorship_tag": "ABX9TyMIy1sLkKGa1y2/f3n2M/r7"
    },
    "kernelspec": {
      "name": "python3",
      "display_name": "Python 3"
    },
    "language_info": {
      "name": "python"
    }
  },
  "cells": [
    {
      "cell_type": "markdown",
      "source": [
        "**Variables & Assignments**   \n",
        "**Data Types**"
      ],
      "metadata": {
        "id": "sLQO-C-Ce1in"
      }
    },
    {
      "cell_type": "code",
      "execution_count": 3,
      "metadata": {
        "colab": {
          "base_uri": "https://localhost:8080/"
        },
        "id": "sn1ay6BcTjLM",
        "outputId": "0bc68b58-641d-4142-e87d-d0aee532696b"
      },
      "outputs": [
        {
          "output_type": "stream",
          "name": "stdout",
          "text": [
            "20\n"
          ]
        }
      ],
      "source": [
        "a=20\n",
        "print(a)"
      ]
    },
    {
      "cell_type": "code",
      "source": [
        "x = float(1)     # x will be 1.0\n",
        "y = float(2.8)   # y will be 2.8\n",
        "z = float(\"3\")   # z will be 3.0\n",
        "w = float(\"4.2\") # w will be 4.2\n",
        "print(x,y,z,w)"
      ],
      "metadata": {
        "colab": {
          "base_uri": "https://localhost:8080/"
        },
        "id": "AxORakoMbzaE",
        "outputId": "1489d9de-0a79-4f21-981c-60e5cf3dc3d3"
      },
      "execution_count": 14,
      "outputs": [
        {
          "output_type": "stream",
          "name": "stdout",
          "text": [
            "1.0 2.8 3.0 4.2\n"
          ]
        }
      ]
    },
    {
      "cell_type": "code",
      "source": [
        "# Boolen data type represent TRUE or FALSE\n",
        "print(10 > 9)  # True\n",
        "print(10 == 9)  #False\n",
        "print(10 < 9)  #False\n",
        "\n",
        "a = 200\n",
        "b = 33\n",
        "\n",
        "if b > a:\n",
        "  print(\"b is greater than a\")\n",
        "else:\n",
        "  print(\"b is not greater than a\")"
      ],
      "metadata": {
        "colab": {
          "base_uri": "https://localhost:8080/"
        },
        "id": "xoA010A1ch0a",
        "outputId": "723384dd-1223-4120-f6bd-a306f254abe8"
      },
      "execution_count": 15,
      "outputs": [
        {
          "output_type": "stream",
          "name": "stdout",
          "text": [
            "True\n",
            "False\n",
            "False\n",
            "b is not greater than a\n"
          ]
        }
      ]
    },
    {
      "cell_type": "markdown",
      "source": [
        "**Declare and Assign variables**   \n",
        "**input()**  \n",
        "**print()**   \n",
        "**Type Casting**"
      ],
      "metadata": {
        "id": "VWmqatjDYdoa"
      }
    },
    {
      "cell_type": "code",
      "source": [
        "# Declare & Assign Variables in python\n",
        "\n",
        "int_var = 10  #same as int a = 10\n",
        "float_var = 18.25\n",
        "string_var = 'This is Python' # or another way \"This is Python\"\n",
        "bool_var = True # if we want to assign false then it should be like False"
      ],
      "metadata": {
        "id": "VfaJ3fgEYhc8"
      },
      "execution_count": 9,
      "outputs": []
    },
    {
      "cell_type": "code",
      "source": [
        "# Print variable values in python\n",
        "print(\"Value of int_var = \",int_var,\" - Result Done !!\")\n",
        "print(\"Value of float_var = \",float_var,\" - Result Done !!\")\n",
        "print(\"Value of string_var = \",string_var,\" - Result Done !!\")\n",
        "print(\"Value of bool_var = \",bool_var,\" - Result Done !!\")"
      ],
      "metadata": {
        "colab": {
          "base_uri": "https://localhost:8080/"
        },
        "id": "AE2-gPONY1mA",
        "outputId": "e7d4c296-baae-45d6-ddb3-ebc9a2781213"
      },
      "execution_count": 10,
      "outputs": [
        {
          "output_type": "stream",
          "name": "stdout",
          "text": [
            "Value of int_var =  10  - Result Done !!\n",
            "Value of float_var =  18.25  - Result Done !!\n",
            "Value of string_var =  This is Python  - Result Done !!\n",
            "Value of bool_var =  True  - Result Done !!\n"
          ]
        }
      ]
    },
    {
      "cell_type": "code",
      "source": [
        "# How to check the data type of any variable in Python\n",
        "# We can use type() funtion\n",
        "print(\"Type of int_var ?\", type(int_var))\n",
        "print(\"Type of float_var ?\", type(float_var))\n",
        "print(\"Type of string_var ?\", type(string_var))\n",
        "print(\"Type of bool_var ?\", type(bool_var))"
      ],
      "metadata": {
        "colab": {
          "base_uri": "https://localhost:8080/"
        },
        "id": "jgHkvng0ZB7z",
        "outputId": "65bac67f-d52e-42d8-893f-b79a37bbc7d3"
      },
      "execution_count": 11,
      "outputs": [
        {
          "output_type": "stream",
          "name": "stdout",
          "text": [
            "Type of int_var ? <class 'int'>\n",
            "Type of float_var ? <class 'float'>\n",
            "Type of string_var ? <class 'str'>\n",
            "Type of bool_var ? <class 'bool'>\n"
          ]
        }
      ]
    },
    {
      "cell_type": "code",
      "source": [
        "# How to do the type casting in python ??\n",
        "# int() , float(), str(), bool()\n",
        "int_var = int_var + 10  # int_var = 10 + 10 and in next step int_var = 20\n",
        "casted_int_var = float(int_var)\n",
        "casted_float_var = int(float_var)\n",
        "\n",
        "print(\"Int to Float Typecasting for int_var = \",casted_int_var)\n",
        "print(\"Float to Int Typecasting for float_var = \",casted_float_var)\n",
        "\n",
        "numeric_str = \"123\"\n",
        "#numeric_str = numeric_str + 50 # is it valid ?? numeric_str = \"123\" + 50\n",
        "#print(\"Value of numeric_str = \",numeric_str)\n",
        "\n",
        "numeric_str = int(numeric_str) + 50 # numeric_str = int(\"123\") + 50 -> 123+50 = 173\n",
        "print(\"Value of numeric_str = \",numeric_str)"
      ],
      "metadata": {
        "colab": {
          "base_uri": "https://localhost:8080/"
        },
        "id": "lsZv6_V4ZO-s",
        "outputId": "27a4bf98-27ad-499f-dced-c3088d13d430"
      },
      "execution_count": 12,
      "outputs": [
        {
          "output_type": "stream",
          "name": "stdout",
          "text": [
            "Int to Float Typecasting for int_var =  20.0\n",
            "Float to Int Typecasting for float_var =  18\n",
            "Value of numeric_str =  173\n"
          ]
        }
      ]
    },
    {
      "cell_type": "code",
      "source": [
        "print(bool(\"Hello\"))  # True\n",
        "print(bool(15))  # True\n",
        "print(bool([\"apple\", \"cherry\", \"banana\"]))   #True\n",
        "\n",
        "print(bool(False))\n",
        "print(bool(True))\n",
        "print(bool(None))\n",
        "print(bool(0))\n",
        "print(bool(\"\"))\n",
        "print(bool(()))\n",
        "print(bool([]))\n",
        "print(bool({}))"
      ],
      "metadata": {
        "colab": {
          "base_uri": "https://localhost:8080/"
        },
        "id": "41UPkQOpdQ8l",
        "outputId": "bb20159c-b457-4ccf-a554-163dd10f6f53"
      },
      "execution_count": 17,
      "outputs": [
        {
          "output_type": "stream",
          "name": "stdout",
          "text": [
            "True\n",
            "True\n",
            "True\n",
            "False\n",
            "True\n",
            "False\n",
            "False\n",
            "False\n",
            "False\n",
            "False\n",
            "False\n"
          ]
        }
      ]
    },
    {
      "cell_type": "code",
      "source": [
        "# How to take the inputs in Python ?\n",
        "# we can use input() function\n",
        "\n",
        "# name = input()\n",
        "# age = input()\n",
        "# print(\"User name = \",name)\n",
        "# print(\"User age = \",age)\n",
        "\n",
        "# Another way to take user input with custom message\n",
        "name = input(\"Enter value for name = \")\n",
        "age = input(\"Enter value for age = \")\n",
        "print(\"User name = \",name)\n",
        "print(\"User age = \",age)\n",
        "print(\"Type of name = \", type(name))\n",
        "print(\"Type of age = \", type(age))\n",
        "\n",
        "# Convert type of data during the input\n",
        "name = input(\"Enter value for name = \")\n",
        "age = int(input(\"Enter value for age = \"))\n",
        "print(\"User name = \",name)\n",
        "print(\"User age = \",age)\n",
        "\n",
        "\n",
        "print(\"Type of name = \", type(name))\n",
        "print(\"Type of age = \", type(age))"
      ],
      "metadata": {
        "colab": {
          "base_uri": "https://localhost:8080/"
        },
        "id": "Jz8kuKr4aJxX",
        "outputId": "7780182f-1f1c-4e45-9b06-e040ad89b2c9"
      },
      "execution_count": 13,
      "outputs": [
        {
          "output_type": "stream",
          "name": "stdout",
          "text": [
            "Enter value for name = ram\n",
            "Enter value for age = 23\n",
            "User name =  ram\n",
            "User age =  23\n",
            "Type of name =  <class 'str'>\n",
            "Type of age =  <class 'str'>\n",
            "Enter value for name = rahim\n",
            "Enter value for age = 32\n",
            "User name =  rahim\n",
            "User age =  32\n",
            "Type of name =  <class 'str'>\n",
            "Type of age =  <class 'int'>\n"
          ]
        }
      ]
    },
    {
      "cell_type": "code",
      "source": [
        "#Function to return value = true\n",
        "def myFunction() :\t  \n",
        "    return True\n",
        "print(myFunction())\n",
        "\t\n",
        "#Function returns : Print YES if the function returns true \n",
        "def myFunction1() :\n",
        "\treturn True\n",
        "if myFunction1():\n",
        "    print(\"YES!\")\n",
        "else:print(\"NO!\")\n"
      ],
      "metadata": {
        "colab": {
          "base_uri": "https://localhost:8080/"
        },
        "id": "CX7TvP_Udwm1",
        "outputId": "628dc051-8ae3-4580-e6e8-d61d678d342b"
      },
      "execution_count": 20,
      "outputs": [
        {
          "output_type": "stream",
          "name": "stdout",
          "text": [
            "True\n",
            "YES!\n"
          ]
        }
      ]
    },
    {
      "cell_type": "markdown",
      "source": [
        "**Local and Global variable assignments**"
      ],
      "metadata": {
        "id": "B6FeTl1YUPb1"
      }
    },
    {
      "cell_type": "code",
      "source": [
        "x=\"awesome\"\n",
        "\n",
        "def myfunc():#Createavariableoutsidethefunction\n",
        "    print(\"Python is \"+x)\n",
        "\n",
        "myfunc()"
      ],
      "metadata": {
        "colab": {
          "base_uri": "https://localhost:8080/"
        },
        "id": "ZrZFRSfyXib3",
        "outputId": "647e73ab-3dbb-4fff-b81e-60b19d5a7eeb"
      },
      "execution_count": 6,
      "outputs": [
        {
          "output_type": "stream",
          "name": "stdout",
          "text": [
            "Python is awesome\n"
          ]
        }
      ]
    },
    {
      "cell_type": "code",
      "source": [
        "def func():\n",
        "    global x\n",
        "    x=\"local\"\n",
        "    print(\" i am from : \", x)\n",
        "\n",
        "func()\n"
      ],
      "metadata": {
        "colab": {
          "base_uri": "https://localhost:8080/"
        },
        "id": "r_3btq74XqBR",
        "outputId": "cc7ddaee-5af7-4494-9270-d8f66b29943b"
      },
      "execution_count": 8,
      "outputs": [
        {
          "output_type": "stream",
          "name": "stdout",
          "text": [
            " i am from :  local\n"
          ]
        }
      ]
    }
  ]
}
