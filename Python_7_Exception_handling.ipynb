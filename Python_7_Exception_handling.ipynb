{
  "nbformat": 4,
  "nbformat_minor": 0,
  "metadata": {
    "colab": {
      "provenance": [],
      "authorship_tag": "ABX9TyMAgZK2BR9K375o0XHDmxDz"
    },
    "kernelspec": {
      "name": "python3",
      "display_name": "Python 3"
    },
    "language_info": {
      "name": "python"
    }
  },
  "cells": [
    {
      "cell_type": "markdown",
      "source": [
        "**Exception handling**   \n",
        "\n",
        "Importent topic  \n",
        "What is Exception hand - we will make a mistake during runtime so we have to handle those errors happen during runtime.  \n",
        "Why? - when your code will not work in production  ex a/0 , so identify those issues and respond to contune on next process.\n",
        "As Python runs line by line if there is an error it stops at the place so then we use exception handling we can handle those and proceed with other line of code.  \n",
        "Will handle errors raised only \"Runtime errors\" not syntax /compile time errors:    \n",
        "\n",
        "Put all your code in try block where ever you expect an error.\n",
        "\n",
        "Types of errors:  \n",
        "Compile time errors (Syntax error or missing something in code / format)  \n",
        "Runtime errors\n",
        "\n",
        "\n",
        "Try Block  \n",
        "Except Block  \n",
        "\n",
        "If there is a error in try block it jumps to Except block.\n",
        "\n"
      ],
      "metadata": {
        "id": "6qe8yceKfcfb"
      }
    },
    {
      "cell_type": "code",
      "execution_count": null,
      "metadata": {
        "colab": {
          "base_uri": "https://localhost:8080/"
        },
        "id": "xiopU41IfaGI",
        "outputId": "b9ac63ca-f306-4706-b99e-5e132a5627db"
      },
      "outputs": [
        {
          "output_type": "execute_result",
          "data": {
            "text/plain": [
              "0.5"
            ]
          },
          "metadata": {},
          "execution_count": 5
        }
      ],
      "source": [
        "a=5\n",
        "a/10"
      ]
    },
    {
      "cell_type": "code",
      "source": [
        "a/0\n",
        "print(\"this is my program\") # not executed due to error in above line"
      ],
      "metadata": {
        "colab": {
          "base_uri": "https://localhost:8080/",
          "height": 184
        },
        "id": "wa_o5E6Oghrh",
        "outputId": "e63257d0-223e-4854-b7d6-d85c50a01789"
      },
      "execution_count": null,
      "outputs": [
        {
          "output_type": "error",
          "ename": "ZeroDivisionError",
          "evalue": "ignored",
          "traceback": [
            "\u001b[0;31m---------------------------------------------------------------------------\u001b[0m",
            "\u001b[0;31mZeroDivisionError\u001b[0m                         Traceback (most recent call last)",
            "\u001b[0;32m<ipython-input-6-2c11ed2622b9>\u001b[0m in \u001b[0;36m<module>\u001b[0;34m\u001b[0m\n\u001b[0;32m----> 1\u001b[0;31m \u001b[0ma\u001b[0m\u001b[0;34m/\u001b[0m\u001b[0;36m0\u001b[0m\u001b[0;34m\u001b[0m\u001b[0;34m\u001b[0m\u001b[0m\n\u001b[0m\u001b[1;32m      2\u001b[0m \u001b[0mprint\u001b[0m\u001b[0;34m(\u001b[0m\u001b[0;34m\"this is my program\"\u001b[0m\u001b[0;34m)\u001b[0m \u001b[0;31m# not executed due to error in above line\u001b[0m\u001b[0;34m\u001b[0m\u001b[0;34m\u001b[0m\u001b[0m\n",
            "\u001b[0;31mZeroDivisionError\u001b[0m: division by zero"
          ]
        }
      ]
    },
    {
      "cell_type": "code",
      "source": [
        "f=open(\"test.txt\",\"r\")\n",
        "f.write(\"write something\") # Here writing something in READ mode so throws error"
      ],
      "metadata": {
        "colab": {
          "base_uri": "https://localhost:8080/",
          "height": 184
        },
        "id": "48u97_Ffj0ba",
        "outputId": "bc81bc41-83e7-4325-b05a-392ae9ba76ab"
      },
      "execution_count": null,
      "outputs": [
        {
          "output_type": "error",
          "ename": "FileNotFoundError",
          "evalue": "ignored",
          "traceback": [
            "\u001b[0;31m---------------------------------------------------------------------------\u001b[0m",
            "\u001b[0;31mFileNotFoundError\u001b[0m                         Traceback (most recent call last)",
            "\u001b[0;32m<ipython-input-7-7c768eb76413>\u001b[0m in \u001b[0;36m<module>\u001b[0;34m\u001b[0m\n\u001b[0;32m----> 1\u001b[0;31m \u001b[0mf\u001b[0m\u001b[0;34m=\u001b[0m\u001b[0mopen\u001b[0m\u001b[0;34m(\u001b[0m\u001b[0;34m\"test.txt\"\u001b[0m\u001b[0;34m,\u001b[0m\u001b[0;34m\"r\"\u001b[0m\u001b[0;34m)\u001b[0m\u001b[0;34m\u001b[0m\u001b[0;34m\u001b[0m\u001b[0m\n\u001b[0m\u001b[1;32m      2\u001b[0m \u001b[0mf\u001b[0m\u001b[0;34m.\u001b[0m\u001b[0mwrite\u001b[0m\u001b[0;34m(\u001b[0m\u001b[0;34m\"write something\"\u001b[0m\u001b[0;34m)\u001b[0m \u001b[0;31m# Here writing something in READ mode so throws error\u001b[0m\u001b[0;34m\u001b[0m\u001b[0;34m\u001b[0m\u001b[0m\n",
            "\u001b[0;31mFileNotFoundError\u001b[0m: [Errno 2] No such file or directory: 'test.txt'"
          ]
        }
      ]
    },
    {
      "cell_type": "code",
      "source": [
        "# example for Compile time error ( here it's syntax error)\n",
        "try:  #what ever you write inside this it handles it( )\n",
        "    f=open(\"test.txt\",\"r\")\n",
        "    f.write(\"write something\") # Here writing something in READ mode so throws error\n"
      ],
      "metadata": {
        "colab": {
          "base_uri": "https://localhost:8080/",
          "height": 131
        },
        "id": "LkIgYrBhkYrw",
        "outputId": "d56e2ea4-554e-40c5-c28d-5692bac8612c"
      },
      "execution_count": null,
      "outputs": [
        {
          "output_type": "error",
          "ename": "SyntaxError",
          "evalue": "ignored",
          "traceback": [
            "\u001b[0;36m  File \u001b[0;32m\"<ipython-input-8-289a81731091>\"\u001b[0;36m, line \u001b[0;32m4\u001b[0m\n\u001b[0;31m    f.write(\"write something\") # Here writing something in READ mode so throws error\u001b[0m\n\u001b[0m                                                                                    ^\u001b[0m\n\u001b[0;31mSyntaxError\u001b[0m\u001b[0;31m:\u001b[0m unexpected EOF while parsing\n"
          ]
        }
      ]
    },
    {
      "cell_type": "code",
      "source": [
        "try:  #what ever you write inside this it handles it( )\n",
        "    f=open(\"test.txt\",\"r\")\n",
        "    f.write(\"write something\") # Here writing something in READ mode so throws error \n",
        "except: # throw an error to except block to handle runtime error \n",
        "    print(\"there is a mistake in code\")\n",
        "print(\"this is my code\")"
      ],
      "metadata": {
        "colab": {
          "base_uri": "https://localhost:8080/"
        },
        "id": "oeHtT7KPndsS",
        "outputId": "5a11ca7a-f79f-40f1-848b-e0ab1ec4c74d"
      },
      "execution_count": null,
      "outputs": [
        {
          "output_type": "stream",
          "name": "stdout",
          "text": [
            "there is a mistake in code\n",
            "this is my code\n"
          ]
        }
      ]
    },
    {
      "cell_type": "code",
      "source": [
        "l=[4,5,6,7,8,9,0]\n",
        "for i in (len(l)): #( list -> len(l) is int , now int is not Iterable)\n",
        "    print(l)"
      ],
      "metadata": {
        "colab": {
          "base_uri": "https://localhost:8080/",
          "height": 201
        },
        "id": "pIJ0BYUhpsdY",
        "outputId": "2fd1409a-ec94-4cac-8ce2-3f74502bd0c1"
      },
      "execution_count": null,
      "outputs": [
        {
          "output_type": "error",
          "ename": "TypeError",
          "evalue": "ignored",
          "traceback": [
            "\u001b[0;31m---------------------------------------------------------------------------\u001b[0m",
            "\u001b[0;31mTypeError\u001b[0m                                 Traceback (most recent call last)",
            "\u001b[0;32m<ipython-input-10-a7e76349501e>\u001b[0m in \u001b[0;36m<module>\u001b[0;34m\u001b[0m\n\u001b[1;32m      1\u001b[0m \u001b[0ml\u001b[0m\u001b[0;34m=\u001b[0m\u001b[0;34m[\u001b[0m\u001b[0;36m4\u001b[0m\u001b[0;34m,\u001b[0m\u001b[0;36m5\u001b[0m\u001b[0;34m,\u001b[0m\u001b[0;36m6\u001b[0m\u001b[0;34m,\u001b[0m\u001b[0;36m7\u001b[0m\u001b[0;34m,\u001b[0m\u001b[0;36m8\u001b[0m\u001b[0;34m,\u001b[0m\u001b[0;36m9\u001b[0m\u001b[0;34m,\u001b[0m\u001b[0;36m0\u001b[0m\u001b[0;34m]\u001b[0m\u001b[0;34m\u001b[0m\u001b[0;34m\u001b[0m\u001b[0m\n\u001b[0;32m----> 2\u001b[0;31m \u001b[0;32mfor\u001b[0m \u001b[0mi\u001b[0m \u001b[0;32min\u001b[0m \u001b[0;34m(\u001b[0m\u001b[0mlen\u001b[0m\u001b[0;34m(\u001b[0m\u001b[0ml\u001b[0m\u001b[0;34m)\u001b[0m\u001b[0;34m)\u001b[0m\u001b[0;34m:\u001b[0m \u001b[0;31m#( list -> len(l) is int , now int is not Iterable)\u001b[0m\u001b[0;34m\u001b[0m\u001b[0;34m\u001b[0m\u001b[0m\n\u001b[0m\u001b[1;32m      3\u001b[0m     \u001b[0mprint\u001b[0m\u001b[0;34m(\u001b[0m\u001b[0ml\u001b[0m\u001b[0;34m)\u001b[0m\u001b[0;34m\u001b[0m\u001b[0;34m\u001b[0m\u001b[0m\n",
            "\u001b[0;31mTypeError\u001b[0m: 'int' object is not iterable"
          ]
        }
      ]
    },
    {
      "cell_type": "code",
      "source": [
        "try:\n",
        "    l=[4,5,6,7,8,9,0]\n",
        "    for i in range(len(l): \n",
        "        print(l)\n",
        "except:\n",
        "    print(\"warning: Error in above code\")\n",
        "\n",
        "# not going to handle typing/ program error/ syntax errors"
      ],
      "metadata": {
        "colab": {
          "base_uri": "https://localhost:8080/",
          "height": 131
        },
        "id": "IvXZo2tUqwkX",
        "outputId": "99c175fa-245c-4267-afc5-3fdae2df886c"
      },
      "execution_count": null,
      "outputs": [
        {
          "output_type": "error",
          "ename": "SyntaxError",
          "evalue": "ignored",
          "traceback": [
            "\u001b[0;36m  File \u001b[0;32m\"<ipython-input-11-9190c70cb18d>\"\u001b[0;36m, line \u001b[0;32m3\u001b[0m\n\u001b[0;31m    for i in range(len(l):\u001b[0m\n\u001b[0m                         ^\u001b[0m\n\u001b[0;31mSyntaxError\u001b[0m\u001b[0;31m:\u001b[0m invalid syntax\n"
          ]
        }
      ]
    },
    {
      "cell_type": "code",
      "source": [
        "try:\n",
        "    l=[4,5,6,7,8,9,0]\n",
        "    for i in (len(l)): \n",
        "        print(l)\n",
        "except:\n",
        "    print(\"warning: Error in above code\")"
      ],
      "metadata": {
        "colab": {
          "base_uri": "https://localhost:8080/"
        },
        "id": "y-afLIWDqZyA",
        "outputId": "39573037-47e3-42aa-8d3d-22acb744b9b1"
      },
      "execution_count": null,
      "outputs": [
        {
          "output_type": "stream",
          "name": "stdout",
          "text": [
            "warning: Error in above code\n"
          ]
        }
      ]
    },
    {
      "cell_type": "code",
      "source": [
        "l=[4,5,6,7,8,9,0]\n",
        "for i in range(len(l)): \n",
        "    print(l)"
      ],
      "metadata": {
        "colab": {
          "base_uri": "https://localhost:8080/"
        },
        "id": "hHORD1TqrCYm",
        "outputId": "691248e4-4916-4e0e-ad25-97dc3e7a6e4c"
      },
      "execution_count": null,
      "outputs": [
        {
          "output_type": "stream",
          "name": "stdout",
          "text": [
            "[4, 5, 6, 7, 8, 9, 0]\n",
            "[4, 5, 6, 7, 8, 9, 0]\n",
            "[4, 5, 6, 7, 8, 9, 0]\n",
            "[4, 5, 6, 7, 8, 9, 0]\n",
            "[4, 5, 6, 7, 8, 9, 0]\n",
            "[4, 5, 6, 7, 8, 9, 0]\n",
            "[4, 5, 6, 7, 8, 9, 0]\n"
          ]
        }
      ]
    },
    {
      "cell_type": "code",
      "source": [
        "l=[4,5,6,7,8,9,0]\n",
        "for i in range(len(l)): \n",
        "    print(i)"
      ],
      "metadata": {
        "colab": {
          "base_uri": "https://localhost:8080/"
        },
        "id": "44Q6lqunrjde",
        "outputId": "50239fce-d82e-4161-9c48-682700b5ed58"
      },
      "execution_count": null,
      "outputs": [
        {
          "output_type": "stream",
          "name": "stdout",
          "text": [
            "0\n",
            "1\n",
            "2\n",
            "3\n",
            "4\n",
            "5\n",
            "6\n"
          ]
        }
      ]
    },
    {
      "cell_type": "code",
      "source": [
        "l=[4,5,6,7,8,9,0]\n",
        "for i in range(len(l)): \n",
        "    print(l[i])"
      ],
      "metadata": {
        "colab": {
          "base_uri": "https://localhost:8080/"
        },
        "id": "zhl8ecrtrnM-",
        "outputId": "05a9eee8-262d-4ac7-8a58-9535c09afc29"
      },
      "execution_count": null,
      "outputs": [
        {
          "output_type": "stream",
          "name": "stdout",
          "text": [
            "4\n",
            "5\n",
            "6\n",
            "7\n",
            "8\n",
            "9\n",
            "0\n"
          ]
        }
      ]
    },
    {
      "cell_type": "code",
      "source": [
        "l=[4,5,6,7,8,9,0]\n",
        "for i in range(len(l)+1): \n",
        "    print(l[i])\n",
        "# Introducing some error here : IndexError: list index out of range"
      ],
      "metadata": {
        "colab": {
          "base_uri": "https://localhost:8080/",
          "height": 340
        },
        "id": "7sJgJ2CNrt8W",
        "outputId": "c9699812-06a7-4cc9-a02c-7845739d28d5"
      },
      "execution_count": null,
      "outputs": [
        {
          "output_type": "stream",
          "name": "stdout",
          "text": [
            "4\n",
            "5\n",
            "6\n",
            "7\n",
            "8\n",
            "9\n",
            "0\n"
          ]
        },
        {
          "output_type": "error",
          "ename": "IndexError",
          "evalue": "ignored",
          "traceback": [
            "\u001b[0;31m---------------------------------------------------------------------------\u001b[0m",
            "\u001b[0;31mIndexError\u001b[0m                                Traceback (most recent call last)",
            "\u001b[0;32m<ipython-input-16-3a64722d8e2c>\u001b[0m in \u001b[0;36m<module>\u001b[0;34m\u001b[0m\n\u001b[1;32m      1\u001b[0m \u001b[0ml\u001b[0m\u001b[0;34m=\u001b[0m\u001b[0;34m[\u001b[0m\u001b[0;36m4\u001b[0m\u001b[0;34m,\u001b[0m\u001b[0;36m5\u001b[0m\u001b[0;34m,\u001b[0m\u001b[0;36m6\u001b[0m\u001b[0;34m,\u001b[0m\u001b[0;36m7\u001b[0m\u001b[0;34m,\u001b[0m\u001b[0;36m8\u001b[0m\u001b[0;34m,\u001b[0m\u001b[0;36m9\u001b[0m\u001b[0;34m,\u001b[0m\u001b[0;36m0\u001b[0m\u001b[0;34m]\u001b[0m\u001b[0;34m\u001b[0m\u001b[0;34m\u001b[0m\u001b[0m\n\u001b[1;32m      2\u001b[0m \u001b[0;32mfor\u001b[0m \u001b[0mi\u001b[0m \u001b[0;32min\u001b[0m \u001b[0mrange\u001b[0m\u001b[0;34m(\u001b[0m\u001b[0mlen\u001b[0m\u001b[0;34m(\u001b[0m\u001b[0ml\u001b[0m\u001b[0;34m)\u001b[0m\u001b[0;34m+\u001b[0m\u001b[0;36m1\u001b[0m\u001b[0;34m)\u001b[0m\u001b[0;34m:\u001b[0m\u001b[0;34m\u001b[0m\u001b[0;34m\u001b[0m\u001b[0m\n\u001b[0;32m----> 3\u001b[0;31m     \u001b[0mprint\u001b[0m\u001b[0;34m(\u001b[0m\u001b[0ml\u001b[0m\u001b[0;34m[\u001b[0m\u001b[0mi\u001b[0m\u001b[0;34m]\u001b[0m\u001b[0;34m)\u001b[0m\u001b[0;34m\u001b[0m\u001b[0;34m\u001b[0m\u001b[0m\n\u001b[0m\u001b[1;32m      4\u001b[0m \u001b[0;31m# Introducing some error here : IndexError: list index out of range\u001b[0m\u001b[0;34m\u001b[0m\u001b[0;34m\u001b[0m\u001b[0;34m\u001b[0m\u001b[0m\n",
            "\u001b[0;31mIndexError\u001b[0m: list index out of range"
          ]
        }
      ]
    },
    {
      "cell_type": "code",
      "source": [
        "try:\n",
        "    l=[4,5,6,7,8,9,0]\n",
        "    for i in range(len(l)+1): \n",
        "        print(l[i])\n",
        "except:\n",
        "    print(\"Warning: error  in the line\")"
      ],
      "metadata": {
        "colab": {
          "base_uri": "https://localhost:8080/"
        },
        "id": "jH9H53YWr-6t",
        "outputId": "046f738d-277a-4ba1-bf19-3c077131746b"
      },
      "execution_count": null,
      "outputs": [
        {
          "output_type": "stream",
          "name": "stdout",
          "text": [
            "4\n",
            "5\n",
            "6\n",
            "7\n",
            "8\n",
            "9\n",
            "0\n",
            "Warning: error  in the line\n"
          ]
        }
      ]
    },
    {
      "cell_type": "markdown",
      "source": [
        "**Check what kind or errors through except block.**"
      ],
      "metadata": {
        "id": "Oc3-ccyJtOCX"
      }
    },
    {
      "cell_type": "code",
      "source": [
        "try:\n",
        "    l=[4,5,6,7,8,9,0]\n",
        "    for i in range(len(l)+1): \n",
        "        print(l[i])\n",
        "except Exception as e: # e is alias for Exception super class\n",
        "    print(\"Warning: error  in the line:---  \",e)\n"
      ],
      "metadata": {
        "colab": {
          "base_uri": "https://localhost:8080/"
        },
        "id": "elKj37jqtVC1",
        "outputId": "811c83f6-aaf4-4a79-df93-5dd532b7ee7d"
      },
      "execution_count": null,
      "outputs": [
        {
          "output_type": "stream",
          "name": "stdout",
          "text": [
            "4\n",
            "5\n",
            "6\n",
            "7\n",
            "8\n",
            "9\n",
            "0\n",
            "Warning: error  in the line:---   list index out of range\n"
          ]
        }
      ]
    },
    {
      "cell_type": "code",
      "source": [
        "try:\n",
        "    a=int(input(\"Enter something int: \"))\n",
        "    b=int(input(\"Enter something int: \"))\n",
        "except Exception as e:\n",
        "    print(\"Warning: Found error here is :-- ****\", e)\n",
        "print(\"next code here\")"
      ],
      "metadata": {
        "colab": {
          "base_uri": "https://localhost:8080/"
        },
        "id": "31f4yyUwuAEV",
        "outputId": "cbd2bd49-f8a8-47b7-8dcc-59382b0b5188"
      },
      "execution_count": null,
      "outputs": [
        {
          "output_type": "stream",
          "name": "stdout",
          "text": [
            "Enter something int: sdsf\n",
            "Warning: Found error here is :-- **** invalid literal for int() with base 10: 'sdsf'\n",
            "next code here\n"
          ]
        }
      ]
    },
    {
      "cell_type": "code",
      "source": [
        "print(\"Hello )"
      ],
      "metadata": {
        "id": "JyFLK1ievHqm",
        "colab": {
          "base_uri": "https://localhost:8080/",
          "height": 131
        },
        "outputId": "a2c885cd-1d62-4449-adf9-a705cf9d4e38"
      },
      "execution_count": null,
      "outputs": [
        {
          "output_type": "error",
          "ename": "SyntaxError",
          "evalue": "ignored",
          "traceback": [
            "\u001b[0;36m  File \u001b[0;32m\"<ipython-input-20-23745fced555>\"\u001b[0;36m, line \u001b[0;32m1\u001b[0m\n\u001b[0;31m    print(\"Hello )\u001b[0m\n\u001b[0m                  ^\u001b[0m\n\u001b[0;31mSyntaxError\u001b[0m\u001b[0;31m:\u001b[0m EOL while scanning string literal\n"
          ]
        }
      ]
    },
    {
      "cell_type": "code",
      "source": [
        "a=int(input())"
      ],
      "metadata": {
        "colab": {
          "base_uri": "https://localhost:8080/"
        },
        "id": "PlGFllTiIyfA",
        "outputId": "c1cb491b-783a-42b0-f09f-625060f5177e"
      },
      "execution_count": null,
      "outputs": [
        {
          "name": "stdout",
          "output_type": "stream",
          "text": [
            "34\n"
          ]
        }
      ]
    },
    {
      "cell_type": "code",
      "source": [
        "try:\n",
        "    f=open(\"test.txt\", \"r\")\n",
        "    f.write(\"write something in test.txt. \")\n",
        "    print(\"this is mu code after write statement \")\n",
        "except:\n",
        "    print(\"this is my code continuation after error handling\")\n",
        "try:\n",
        "    l=[12,3,4,53,45]\n",
        "    for i in l:\n",
        "        print(i)\n",
        "except:\n",
        "    print(\"this is my code after 2nd try block\")"
      ],
      "metadata": {
        "colab": {
          "base_uri": "https://localhost:8080/"
        },
        "id": "zTAuOLPtJCGn",
        "outputId": "fa1380a5-9024-43cc-b58e-abbe186e9e8b"
      },
      "execution_count": null,
      "outputs": [
        {
          "output_type": "stream",
          "name": "stdout",
          "text": [
            "this is my code continuation after error handling\n",
            "12\n",
            "3\n",
            "4\n",
            "53\n",
            "45\n"
          ]
        }
      ]
    },
    {
      "cell_type": "code",
      "source": [
        "try:\n",
        "    dic={\"key1\":\"123\",\"key2\":[1,2,3,4,4],\"key3\":(34,67,78),\"key4\":int(input(\"Enter some int value: \"))}\n",
        "    dic[\"key5\"]=int(input(\"Enter string: \"))\n",
        "except Exception as error: # error is alias name\n",
        "    print(error)"
      ],
      "metadata": {
        "colab": {
          "base_uri": "https://localhost:8080/"
        },
        "id": "d2zGVXaFK_1G",
        "outputId": "c5732fe5-afcd-492b-93b1-71024b2f4545"
      },
      "execution_count": null,
      "outputs": [
        {
          "output_type": "stream",
          "name": "stdout",
          "text": [
            "Enter some int value: tryrt\n",
            "invalid literal for int() with base 10: 'tryrt'\n"
          ]
        }
      ]
    },
    {
      "cell_type": "markdown",
      "source": [
        "Exception is a super class.  \n",
        "There are a lot more sub class in the super class .\n",
        "like then we get a/0 arithematic error , division by 0 error, Arithematic error , value error etc\n"
      ],
      "metadata": {
        "id": "_qZo5lSrMklM"
      }
    },
    {
      "cell_type": "code",
      "source": [
        "# Still we get error because we defined code to handle only valueerror type , if we get anyother type errors we still get them it won't handle\n",
        "try:\n",
        "    dic={\"key1\":\"123\",\"key2\":[1,2,3,4,4],\"key3\":(34,67,78),\"key4\":int(input(\"Enter some int value: \"))}\n",
        "    f=open(\"test.txt\",\"r\")\n",
        "except ValueError as error: # error is alias name\n",
        "    print(error)"
      ],
      "metadata": {
        "colab": {
          "base_uri": "https://localhost:8080/"
        },
        "id": "edKNe6G9NXlr",
        "outputId": "f826c182-1ba2-4269-8ce0-97d02dd9882c"
      },
      "execution_count": null,
      "outputs": [
        {
          "output_type": "stream",
          "name": "stdout",
          "text": [
            "Enter some int value: rtye\n",
            "invalid literal for int() with base 10: 'rtye'\n"
          ]
        }
      ]
    },
    {
      "cell_type": "code",
      "source": [
        "# Above code vs this code for difference -> Exception vs valueerror\n",
        "try:\n",
        "    dic={\"key1\":\"123\",\"key2\":[1,2,3,4,4],\"key3\":(34,67,78),\"key4\":int(input(\"Enter some int value: \"))}\n",
        "    f=open(\"test.txt\",\"r\")\n",
        "except Exception as error: # error is alias name\n",
        "    print(error)"
      ],
      "metadata": {
        "colab": {
          "base_uri": "https://localhost:8080/"
        },
        "id": "4G8ODt4mN5Ub",
        "outputId": "308cd278-11cf-43ae-ba74-fbe0680c4177"
      },
      "execution_count": null,
      "outputs": [
        {
          "output_type": "stream",
          "name": "stdout",
          "text": [
            "Enter some int value: fhjf\n",
            "invalid literal for int() with base 10: 'fhjf'\n"
          ]
        }
      ]
    },
    {
      "cell_type": "markdown",
      "source": [
        "**Multiple Except blocks**  \n",
        "Its possible you can use multiple except blocks when you want to use subclasses"
      ],
      "metadata": {
        "id": "XiNRZbDCOnxZ"
      }
    },
    {
      "cell_type": "code",
      "source": [
        "try:\n",
        "    dic={\"key1\":\"123\",\"key2\":[1,2,3,4,4],\"key3\":(34,67,78),\"key4\":int(input(\"Enter some int value: \"))}\n",
        "    f=open(\"test.txt\",\"r\")\n",
        "except ValueError as error: # error is alias name\n",
        "    print(\"handled ValueError here:-- ***** \",error)\n",
        "except FileNotFoundError as er:\n",
        "    print(\"handled FileNotFoundError here:--- ****\", er)"
      ],
      "metadata": {
        "colab": {
          "base_uri": "https://localhost:8080/"
        },
        "id": "yHGu93H0Oz0R",
        "outputId": "5aea086f-382a-49ba-9eff-ba5310cd2fa9"
      },
      "execution_count": null,
      "outputs": [
        {
          "output_type": "stream",
          "name": "stdout",
          "text": [
            "Enter some int value: ryu\n",
            "handled ValueError here:-- *****  invalid literal for int() with base 10: 'ryu'\n"
          ]
        }
      ]
    },
    {
      "cell_type": "markdown",
      "source": [
        "**else block**  \n",
        "if you have a code that depend on try block code .\n",
        "if Try block is executed successfully it goes to else block , If try has error handled by except."
      ],
      "metadata": {
        "id": "N2zt0qxLQxSw"
      }
    },
    {
      "cell_type": "code",
      "source": [
        "try:\n",
        "    f=open(\"test.txt\",'r')\n",
        "    f.write(\"write something in txt . \")\n",
        "except Exception as e:\n",
        "    print(\"handled error through Exception clasee\",e)\n",
        "else:\n",
        "    print(\"this will execute once my try block will be executed successfully\")\n",
        "    f.close()"
      ],
      "metadata": {
        "colab": {
          "base_uri": "https://localhost:8080/"
        },
        "id": "kxJ7bXmhQ0u3",
        "outputId": "234453f6-4fdc-4591-dcc7-378e1a188a93"
      },
      "execution_count": null,
      "outputs": [
        {
          "output_type": "stream",
          "name": "stdout",
          "text": [
            "handled error through Exception clasee [Errno 2] No such file or directory: 'test.txt'\n"
          ]
        }
      ]
    },
    {
      "cell_type": "code",
      "source": [
        "try:\n",
        "    f=open(\"test.txt\",'w')\n",
        "    f.write(\"write something in txt . \")\n",
        "except Exception as e:\n",
        "    print(\"handled error through Exception clasee\",e)\n",
        "else:\n",
        "    print(\"this will execute once my try block will be executed successfully\")\n",
        "    f.close()"
      ],
      "metadata": {
        "colab": {
          "base_uri": "https://localhost:8080/"
        },
        "id": "rmA1yrbGRvPh",
        "outputId": "8ac7dec8-2d59-4489-a9d0-744ac69ce045"
      },
      "execution_count": null,
      "outputs": [
        {
          "output_type": "stream",
          "name": "stdout",
          "text": [
            "this will execute once my try block will be executed successfully\n"
          ]
        }
      ]
    },
    {
      "cell_type": "markdown",
      "source": [
        "**Finally Block**  \n",
        "finally: Will execute all the time even Try has error or successful  \n",
        "else: execution only when Try is successful"
      ],
      "metadata": {
        "id": "iBUyDPlJSGZ_"
      }
    },
    {
      "cell_type": "code",
      "source": [
        "try:\n",
        "    f=open(\"test.txt\",'w')\n",
        "    f.write(\"write something in txt . \")\n",
        "except Exception as e:\n",
        "    print(\"handled error through Exception clasee\",e)\n",
        "else:\n",
        "    print(\"this will execute once my try block will be executed successfully\") # Try block successful\n",
        "    \n",
        "finally:\n",
        "    print(\"from finally\") # \"try\" successful or error execute \"finally\"\n"
      ],
      "metadata": {
        "colab": {
          "base_uri": "https://localhost:8080/"
        },
        "id": "trX2GBqYSLZP",
        "outputId": "fc668565-d12e-43d0-8ef7-80f0fea3136e"
      },
      "execution_count": null,
      "outputs": [
        {
          "output_type": "stream",
          "name": "stdout",
          "text": [
            "this will execute once my try block will be executed successfully\n",
            "from finally\n"
          ]
        }
      ]
    },
    {
      "cell_type": "code",
      "source": [
        "try:\n",
        "    f=open(\"test3.txt\",'r')\n",
        "    f.write(\"write something in txt . \")\n",
        "except Exception as e:\n",
        "    print(\"handled error through Exception clasee\",e)   # when \"try\" block has error\n",
        "else:\n",
        "    print(\"this will execute once my try block will be executed successfully\") # when \"Try\" block successful\n",
        "    \n",
        "finally:\n",
        "    print(\"from finally\") # \"try\" successful or error execute \"finally\"\n"
      ],
      "metadata": {
        "colab": {
          "base_uri": "https://localhost:8080/"
        },
        "id": "P6hhSVsHTFIY",
        "outputId": "7d53fb0d-b48b-4ee9-d6a2-6bd51aa628c2"
      },
      "execution_count": null,
      "outputs": [
        {
          "output_type": "stream",
          "name": "stdout",
          "text": [
            "handled error through Exception clasee not writable\n",
            "from finally\n"
          ]
        }
      ]
    },
    {
      "cell_type": "code",
      "source": [
        "try:\n",
        "    f=open(\"test3.txt\",'w')\n",
        "except Exception as e:\n",
        "    print(\"handled error through Exception clasee\",e)   # when \"try\" block has error\n",
        "else:\n",
        "    print(\"Do this on successfull Try block\") # when \"Try\" block successful\n",
        "    \n",
        "finally:\n",
        "    print(\"from finally - do this for sure\") # \"try\" successful or error execute \"finally\"\n",
        "    try:\n",
        "        f=open(\"sdsdsdsddd\",'r')\n",
        "    except:\n",
        "        print(\"handle htis\")\n",
        "    finally :\n",
        "        print(\"this is from second try block\")"
      ],
      "metadata": {
        "colab": {
          "base_uri": "https://localhost:8080/"
        },
        "id": "ZDfCH917cRhw",
        "outputId": "ff9b3677-fc32-442c-a44c-3800b3359d1f"
      },
      "execution_count": null,
      "outputs": [
        {
          "output_type": "stream",
          "name": "stdout",
          "text": [
            "Do this on successfull Try block\n",
            "from finally - do this for sure\n",
            "handle htis\n",
            "this is from second try block\n"
          ]
        }
      ]
    },
    {
      "cell_type": "code",
      "source": [
        "def askint():\n",
        "    try:\n",
        "        a=int(input(\"enter int value: \"))\n",
        "        return a\n",
        "    except Exception as e:\n",
        "        print(\"handled error by Exception: \", e)\n",
        "askint()"
      ],
      "metadata": {
        "colab": {
          "base_uri": "https://localhost:8080/"
        },
        "id": "csFVQsLQdT1D",
        "outputId": "024e1924-3dcb-4b98-82c9-4e16e7541586"
      },
      "execution_count": null,
      "outputs": [
        {
          "output_type": "stream",
          "name": "stdout",
          "text": [
            "enter int value: fhj\n",
            "handled error by Exception:  invalid literal for int() with base 10: 'fhj'\n"
          ]
        }
      ]
    },
    {
      "cell_type": "code",
      "source": [
        "# write a program to ask int value again as input until you give in int only\n",
        "def askint():\n",
        "    while True:\n",
        "        try:\n",
        "            a=int(input(\"enter int value: \"))\n",
        "            print(\"great you entered right expected int value\")\n",
        "            break\n",
        "        except Exception as e:\n",
        "            print(\"handled error by Exception: \", e)\n",
        "askint()"
      ],
      "metadata": {
        "colab": {
          "base_uri": "https://localhost:8080/"
        },
        "id": "UwBLG9RLe0gH",
        "outputId": "f3f985a4-17f8-424f-8ef2-eea883dad1bf"
      },
      "execution_count": null,
      "outputs": [
        {
          "output_type": "stream",
          "name": "stdout",
          "text": [
            "enter int value: hjfhj\n",
            "handled error by Exception:  invalid literal for int() with base 10: 'hjfhj'\n",
            "enter int value: 56\n",
            "great you entered right expected int value\n"
          ]
        }
      ]
    },
    {
      "cell_type": "markdown",
      "source": [
        "**Raise an Exception**  \n",
        "Write code to message us custom or our own exception  \n",
        "raise keyword  \n"
      ],
      "metadata": {
        "id": "2u6MBZffhErY"
      }
    },
    {
      "cell_type": "code",
      "source": [
        "def test(a):\n",
        "    if a <0:\n",
        "        raise Exception(\"Warning!!!\",a)\n",
        "    return a\n",
        "test(-4)  #Exception: ('Warning!!!', -4)"
      ],
      "metadata": {
        "colab": {
          "base_uri": "https://localhost:8080/",
          "height": 322
        },
        "id": "EggFckJyeUXO",
        "outputId": "a0095ed6-f8fc-4100-9632-a0579c48bb05"
      },
      "execution_count": null,
      "outputs": [
        {
          "output_type": "error",
          "ename": "Exception",
          "evalue": "ignored",
          "traceback": [
            "\u001b[0;31m---------------------------------------------------------------------------\u001b[0m",
            "\u001b[0;31mException\u001b[0m                                 Traceback (most recent call last)",
            "\u001b[0;32m<ipython-input-35-78f2635b4132>\u001b[0m in \u001b[0;36m<module>\u001b[0;34m\u001b[0m\n\u001b[1;32m      3\u001b[0m         \u001b[0;32mraise\u001b[0m \u001b[0mException\u001b[0m\u001b[0;34m(\u001b[0m\u001b[0;34m\"Warning!!!\"\u001b[0m\u001b[0;34m,\u001b[0m\u001b[0ma\u001b[0m\u001b[0;34m)\u001b[0m\u001b[0;34m\u001b[0m\u001b[0;34m\u001b[0m\u001b[0m\n\u001b[1;32m      4\u001b[0m     \u001b[0;32mreturn\u001b[0m \u001b[0ma\u001b[0m\u001b[0;34m\u001b[0m\u001b[0;34m\u001b[0m\u001b[0m\n\u001b[0;32m----> 5\u001b[0;31m \u001b[0mtest\u001b[0m\u001b[0;34m(\u001b[0m\u001b[0;34m-\u001b[0m\u001b[0;36m4\u001b[0m\u001b[0;34m)\u001b[0m  \u001b[0;31m#Exception: ('Warning!!!', -4)\u001b[0m\u001b[0;34m\u001b[0m\u001b[0;34m\u001b[0m\u001b[0m\n\u001b[0m",
            "\u001b[0;32m<ipython-input-35-78f2635b4132>\u001b[0m in \u001b[0;36mtest\u001b[0;34m(a)\u001b[0m\n\u001b[1;32m      1\u001b[0m \u001b[0;32mdef\u001b[0m \u001b[0mtest\u001b[0m\u001b[0;34m(\u001b[0m\u001b[0ma\u001b[0m\u001b[0;34m)\u001b[0m\u001b[0;34m:\u001b[0m\u001b[0;34m\u001b[0m\u001b[0;34m\u001b[0m\u001b[0m\n\u001b[1;32m      2\u001b[0m     \u001b[0;32mif\u001b[0m \u001b[0ma\u001b[0m \u001b[0;34m<\u001b[0m\u001b[0;36m0\u001b[0m\u001b[0;34m:\u001b[0m\u001b[0;34m\u001b[0m\u001b[0;34m\u001b[0m\u001b[0m\n\u001b[0;32m----> 3\u001b[0;31m         \u001b[0;32mraise\u001b[0m \u001b[0mException\u001b[0m\u001b[0;34m(\u001b[0m\u001b[0;34m\"Warning!!!\"\u001b[0m\u001b[0;34m,\u001b[0m\u001b[0ma\u001b[0m\u001b[0;34m)\u001b[0m\u001b[0;34m\u001b[0m\u001b[0;34m\u001b[0m\u001b[0m\n\u001b[0m\u001b[1;32m      4\u001b[0m     \u001b[0;32mreturn\u001b[0m \u001b[0ma\u001b[0m\u001b[0;34m\u001b[0m\u001b[0;34m\u001b[0m\u001b[0m\n\u001b[1;32m      5\u001b[0m \u001b[0mtest\u001b[0m\u001b[0;34m(\u001b[0m\u001b[0;34m-\u001b[0m\u001b[0;36m4\u001b[0m\u001b[0;34m)\u001b[0m  \u001b[0;31m#Exception: ('Warning!!!', -4)\u001b[0m\u001b[0;34m\u001b[0m\u001b[0;34m\u001b[0m\u001b[0m\n",
            "\u001b[0;31mException\u001b[0m: ('Warning!!!', -4)"
          ]
        }
      ]
    },
    {
      "cell_type": "markdown",
      "source": [
        "**Logging**  \n",
        "How to log -    \n",
        "In prod program we shouldn't use print so we use logging to log all messages to a file .  \n",
        "ex . if there is a crash in program this logger helps to investigate the flow to debug.  \n",
        "Logging labels:  \n",
        "DEBUG  \n",
        "INFO  \n",
        "WARNING  \n",
        "ERROR  \n",
        "CRITICAL  \n"
      ],
      "metadata": {
        "id": "70co1uYAl185"
      }
    },
    {
      "cell_type": "code",
      "source": [
        "import logging"
      ],
      "metadata": {
        "id": "xi4Vx6jyl1H6"
      },
      "execution_count": null,
      "outputs": []
    },
    {
      "cell_type": "code",
      "source": [
        "logging.basicConfig(filename=\"test.txt\")"
      ],
      "metadata": {
        "id": "aaYPq2cfnTyH"
      },
      "execution_count": null,
      "outputs": []
    },
    {
      "cell_type": "code",
      "source": [
        "pwd()"
      ],
      "metadata": {
        "colab": {
          "base_uri": "https://localhost:8080/",
          "height": 35
        },
        "id": "KPAuZ9GrnvOl",
        "outputId": "26ef779c-fe0b-4257-fc59-9be9b7a3aed2"
      },
      "execution_count": null,
      "outputs": [
        {
          "output_type": "execute_result",
          "data": {
            "text/plain": [
              "'/content'"
            ],
            "application/vnd.google.colaboratory.intrinsic+json": {
              "type": "string"
            }
          },
          "metadata": {},
          "execution_count": 38
        }
      ]
    },
    {
      "cell_type": "code",
      "source": [
        "ls"
      ],
      "metadata": {
        "colab": {
          "base_uri": "https://localhost:8080/"
        },
        "id": "OtGGost9pi27",
        "outputId": "c88cf08e-8147-48be-a24e-1d8478660acf"
      },
      "execution_count": null,
      "outputs": [
        {
          "output_type": "stream",
          "name": "stdout",
          "text": [
            "\u001b[0m\u001b[01;34msample_data\u001b[0m/  test3.txt  test.txt\n"
          ]
        }
      ]
    },
    {
      "cell_type": "code",
      "source": [
        "logging.info(\"this is my information logging\")\n",
        "logging.warning(\"this is my warning logging\")\n",
        "logging.error(\"this is my error logging\")"
      ],
      "metadata": {
        "colab": {
          "base_uri": "https://localhost:8080/"
        },
        "id": "jdUKhz5NnwJt",
        "outputId": "e2451608-e959-4b89-bf3b-5e4e61aa7ef1"
      },
      "execution_count": null,
      "outputs": [
        {
          "output_type": "stream",
          "name": "stderr",
          "text": [
            "WARNING:root:this is my warning logging\n",
            "ERROR:root:this is my error logging\n"
          ]
        }
      ]
    },
    {
      "cell_type": "code",
      "source": [
        "#logging.shutdon() # stop logging"
      ],
      "metadata": {
        "id": "qDwocinJnhCd"
      },
      "execution_count": null,
      "outputs": []
    },
    {
      "cell_type": "code",
      "source": [
        "#Write a log in a format ex. SQL server log , Sharepoint log Get DATETIME: Label name\n",
        "logging.basicConfig(filename=\"test2.log\", level=logging.DEBUG , format='%(asctime)s %(message)s')\n",
        "logging.info(\"this is my information logging\")\n",
        "logging.warning(\"this is my warning logging\")\n",
        "logging.error(\"this is my error logging\")\n",
        "logging.debug(\"this is my debug log\")\n"
      ],
      "metadata": {
        "colab": {
          "base_uri": "https://localhost:8080/"
        },
        "id": "kbAviwkKoqcY",
        "outputId": "3b98c978-6331-4ba4-f299-f748ed68ed6c"
      },
      "execution_count": null,
      "outputs": [
        {
          "output_type": "stream",
          "name": "stderr",
          "text": [
            "WARNING:root:this is my warning logging\n",
            "ERROR:root:this is my error logging\n"
          ]
        }
      ]
    }
  ]
}