{
  "nbformat": 4,
  "nbformat_minor": 0,
  "metadata": {
    "colab": {
      "provenance": [],
      "authorship_tag": "ABX9TyMNw9hkY8K80uk+IV8SpS5Q"
    },
    "kernelspec": {
      "name": "python3",
      "display_name": "Python 3"
    },
    "language_info": {
      "name": "python"
    }
  },
  "cells": [
    {
      "cell_type": "markdown",
      "source": [
        "**Exception handling**   \n",
        "\n",
        "Importent topic  \n",
        "What is Exception hand - we will make a mistake during runtime so we have to handle those errors happen during runtime.  \n",
        "Why? - when your code will not work in production  ex a/0 , so identify those issues and respond to contune on next process.\n",
        "As Python runs line by line if there is an error it stops at the place so then we use exception handling we can handle those and proceed with other line of code.  \n",
        "Will handle errors raised only \"Runtime errors\" not syntax /compile time errors:    \n",
        "\n",
        "Put all your code in try block where ever you expect an error.\n",
        "\n",
        "Types of errors:  \n",
        "Compile time errors (Syntax error or missing something in code / format)  \n",
        "Runtime errors\n",
        "\n",
        "\n",
        "Try Block  \n",
        "Except Block  \n",
        "\n",
        "If there is a error in try block it jumps to Except block.\n",
        "\n"
      ],
      "metadata": {
        "id": "6qe8yceKfcfb"
      }
    },
    {
      "cell_type": "code",
      "execution_count": null,
      "metadata": {
        "colab": {
          "base_uri": "https://localhost:8080/"
        },
        "id": "xiopU41IfaGI",
        "outputId": "db7fbd06-f739-4797-891f-749f2b70e649"
      },
      "outputs": [
        {
          "output_type": "execute_result",
          "data": {
            "text/plain": [
              "0.5"
            ]
          },
          "metadata": {},
          "execution_count": 2
        }
      ],
      "source": [
        "a=5\n",
        "a/10"
      ]
    },
    {
      "cell_type": "code",
      "source": [
        "a/0\n",
        "print(\"this is my program\") # not executed due to error in above line"
      ],
      "metadata": {
        "colab": {
          "base_uri": "https://localhost:8080/",
          "height": 184
        },
        "id": "wa_o5E6Oghrh",
        "outputId": "6a0f7286-d67e-41fb-c21d-f4c135b6d4cf"
      },
      "execution_count": null,
      "outputs": [
        {
          "output_type": "error",
          "ename": "ZeroDivisionError",
          "evalue": "ignored",
          "traceback": [
            "\u001b[0;31m---------------------------------------------------------------------------\u001b[0m",
            "\u001b[0;31mZeroDivisionError\u001b[0m                         Traceback (most recent call last)",
            "\u001b[0;32m<ipython-input-4-2c11ed2622b9>\u001b[0m in \u001b[0;36m<module>\u001b[0;34m\u001b[0m\n\u001b[0;32m----> 1\u001b[0;31m \u001b[0ma\u001b[0m\u001b[0;34m/\u001b[0m\u001b[0;36m0\u001b[0m\u001b[0;34m\u001b[0m\u001b[0;34m\u001b[0m\u001b[0m\n\u001b[0m\u001b[1;32m      2\u001b[0m \u001b[0mprint\u001b[0m\u001b[0;34m(\u001b[0m\u001b[0;34m\"this is my program\"\u001b[0m\u001b[0;34m)\u001b[0m \u001b[0;31m# not executed due to error in above line\u001b[0m\u001b[0;34m\u001b[0m\u001b[0;34m\u001b[0m\u001b[0m\n",
            "\u001b[0;31mZeroDivisionError\u001b[0m: division by zero"
          ]
        }
      ]
    },
    {
      "cell_type": "code",
      "source": [
        "f=open(\"test.txt\",\"r\")\n",
        "f.write(\"write something\") # Here writing something in READ mode so throws error"
      ],
      "metadata": {
        "colab": {
          "base_uri": "https://localhost:8080/",
          "height": 184
        },
        "id": "48u97_Ffj0ba",
        "outputId": "c9c6bbfd-09ab-4aa9-94f2-7c864caa2c72"
      },
      "execution_count": null,
      "outputs": [
        {
          "output_type": "error",
          "ename": "FileNotFoundError",
          "evalue": "ignored",
          "traceback": [
            "\u001b[0;31m---------------------------------------------------------------------------\u001b[0m",
            "\u001b[0;31mFileNotFoundError\u001b[0m                         Traceback (most recent call last)",
            "\u001b[0;32m<ipython-input-7-7c768eb76413>\u001b[0m in \u001b[0;36m<module>\u001b[0;34m\u001b[0m\n\u001b[0;32m----> 1\u001b[0;31m \u001b[0mf\u001b[0m\u001b[0;34m=\u001b[0m\u001b[0mopen\u001b[0m\u001b[0;34m(\u001b[0m\u001b[0;34m\"test.txt\"\u001b[0m\u001b[0;34m,\u001b[0m\u001b[0;34m\"r\"\u001b[0m\u001b[0;34m)\u001b[0m\u001b[0;34m\u001b[0m\u001b[0;34m\u001b[0m\u001b[0m\n\u001b[0m\u001b[1;32m      2\u001b[0m \u001b[0mf\u001b[0m\u001b[0;34m.\u001b[0m\u001b[0mwrite\u001b[0m\u001b[0;34m(\u001b[0m\u001b[0;34m\"write something\"\u001b[0m\u001b[0;34m)\u001b[0m \u001b[0;31m# Here writing something in READ mode so throws error\u001b[0m\u001b[0;34m\u001b[0m\u001b[0;34m\u001b[0m\u001b[0m\n",
            "\u001b[0;31mFileNotFoundError\u001b[0m: [Errno 2] No such file or directory: 'test.txt'"
          ]
        }
      ]
    },
    {
      "cell_type": "code",
      "source": [
        "# example for Compile time error ( here it's syntax error)\n",
        "try:  #what ever you write inside this it handles it( )\n",
        "    f=open(\"test.txt\",\"r\")\n",
        "    f.write(\"write something\") # Here writing something in READ mode so throws error\n"
      ],
      "metadata": {
        "colab": {
          "base_uri": "https://localhost:8080/",
          "height": 131
        },
        "id": "LkIgYrBhkYrw",
        "outputId": "198674b2-0258-4dd8-d5da-29e119336ab7"
      },
      "execution_count": null,
      "outputs": [
        {
          "output_type": "error",
          "ename": "SyntaxError",
          "evalue": "ignored",
          "traceback": [
            "\u001b[0;36m  File \u001b[0;32m\"<ipython-input-8-80ba33cb698f>\"\u001b[0;36m, line \u001b[0;32m4\u001b[0m\n\u001b[0;31m    \u001b[0m\n\u001b[0m    ^\u001b[0m\n\u001b[0;31mSyntaxError\u001b[0m\u001b[0;31m:\u001b[0m unexpected EOF while parsing\n"
          ]
        }
      ]
    },
    {
      "cell_type": "code",
      "source": [
        "try:  #what ever you write inside this it handles it( )\n",
        "    f=open(\"test.txt\",\"r\")\n",
        "    f.write(\"write something\") # Here writing something in READ mode so throws error \n",
        "except: # throw an error to except block to handle runtime error \n",
        "    print(\"there is a mistake in code\")\n",
        "print(\"this is my code\")"
      ],
      "metadata": {
        "colab": {
          "base_uri": "https://localhost:8080/"
        },
        "id": "oeHtT7KPndsS",
        "outputId": "d7f8d3f8-416b-409d-b195-1c68088652c3"
      },
      "execution_count": null,
      "outputs": [
        {
          "output_type": "stream",
          "name": "stdout",
          "text": [
            "there is a mistake in code\n",
            "this is my code\n"
          ]
        }
      ]
    },
    {
      "cell_type": "code",
      "source": [
        "l=[4,5,6,7,8,9,0]\n",
        "for i in (len(l)): #( list -> len(l) is int , now int is not Iterable)\n",
        "    print(l)"
      ],
      "metadata": {
        "colab": {
          "base_uri": "https://localhost:8080/",
          "height": 201
        },
        "id": "pIJ0BYUhpsdY",
        "outputId": "ceb01c74-0dcf-45f2-e3ce-a5c88eaa0f85"
      },
      "execution_count": null,
      "outputs": [
        {
          "output_type": "error",
          "ename": "TypeError",
          "evalue": "ignored",
          "traceback": [
            "\u001b[0;31m---------------------------------------------------------------------------\u001b[0m",
            "\u001b[0;31mTypeError\u001b[0m                                 Traceback (most recent call last)",
            "\u001b[0;32m<ipython-input-11-2efb7f973852>\u001b[0m in \u001b[0;36m<module>\u001b[0;34m\u001b[0m\n\u001b[1;32m      1\u001b[0m \u001b[0ml\u001b[0m\u001b[0;34m=\u001b[0m\u001b[0;34m[\u001b[0m\u001b[0;36m4\u001b[0m\u001b[0;34m,\u001b[0m\u001b[0;36m5\u001b[0m\u001b[0;34m,\u001b[0m\u001b[0;36m6\u001b[0m\u001b[0;34m,\u001b[0m\u001b[0;36m7\u001b[0m\u001b[0;34m,\u001b[0m\u001b[0;36m8\u001b[0m\u001b[0;34m,\u001b[0m\u001b[0;36m9\u001b[0m\u001b[0;34m,\u001b[0m\u001b[0;36m0\u001b[0m\u001b[0;34m]\u001b[0m\u001b[0;34m\u001b[0m\u001b[0;34m\u001b[0m\u001b[0m\n\u001b[0;32m----> 2\u001b[0;31m \u001b[0;32mfor\u001b[0m \u001b[0mi\u001b[0m \u001b[0;32min\u001b[0m \u001b[0;34m(\u001b[0m\u001b[0mlen\u001b[0m\u001b[0;34m(\u001b[0m\u001b[0ml\u001b[0m\u001b[0;34m)\u001b[0m\u001b[0;34m)\u001b[0m\u001b[0;34m:\u001b[0m\u001b[0;34m\u001b[0m\u001b[0;34m\u001b[0m\u001b[0m\n\u001b[0m\u001b[1;32m      3\u001b[0m     \u001b[0mprint\u001b[0m\u001b[0;34m(\u001b[0m\u001b[0ml\u001b[0m\u001b[0;34m)\u001b[0m\u001b[0;34m\u001b[0m\u001b[0;34m\u001b[0m\u001b[0m\n",
            "\u001b[0;31mTypeError\u001b[0m: 'int' object is not iterable"
          ]
        }
      ]
    },
    {
      "cell_type": "code",
      "source": [
        "try:\n",
        "    l=[4,5,6,7,8,9,0]\n",
        "    for i in range(len(l): \n",
        "        print(l)\n",
        "except:\n",
        "    print(\"warning: Error in above code\")\n",
        "\n",
        "# not going to handle typing/ program error/ syntax errors"
      ],
      "metadata": {
        "colab": {
          "base_uri": "https://localhost:8080/",
          "height": 131
        },
        "id": "IvXZo2tUqwkX",
        "outputId": "a4315e27-c5f4-4a53-c6ea-b0d7bfd6f61c"
      },
      "execution_count": null,
      "outputs": [
        {
          "output_type": "error",
          "ename": "SyntaxError",
          "evalue": "ignored",
          "traceback": [
            "\u001b[0;36m  File \u001b[0;32m\"<ipython-input-13-20672d2d28af>\"\u001b[0;36m, line \u001b[0;32m3\u001b[0m\n\u001b[0;31m    for i in range(len(l):\u001b[0m\n\u001b[0m                         ^\u001b[0m\n\u001b[0;31mSyntaxError\u001b[0m\u001b[0;31m:\u001b[0m invalid syntax\n"
          ]
        }
      ]
    },
    {
      "cell_type": "code",
      "source": [
        "try:\n",
        "    l=[4,5,6,7,8,9,0]\n",
        "    for i in (len(l)): \n",
        "        print(l)\n",
        "except:\n",
        "    print(\"warning: Error in above code\")"
      ],
      "metadata": {
        "colab": {
          "base_uri": "https://localhost:8080/"
        },
        "id": "y-afLIWDqZyA",
        "outputId": "f46f5439-4bd8-4674-f1a5-89250d189f7d"
      },
      "execution_count": null,
      "outputs": [
        {
          "output_type": "stream",
          "name": "stdout",
          "text": [
            "warning: Error in above code\n"
          ]
        }
      ]
    },
    {
      "cell_type": "code",
      "source": [
        "l=[4,5,6,7,8,9,0]\n",
        "for i in range(len(l)): \n",
        "    print(l)"
      ],
      "metadata": {
        "colab": {
          "base_uri": "https://localhost:8080/"
        },
        "id": "hHORD1TqrCYm",
        "outputId": "f9642019-2208-4e56-c75d-48061e4a82fd"
      },
      "execution_count": null,
      "outputs": [
        {
          "output_type": "stream",
          "name": "stdout",
          "text": [
            "[4, 5, 6, 7, 8, 9, 0]\n",
            "[4, 5, 6, 7, 8, 9, 0]\n",
            "[4, 5, 6, 7, 8, 9, 0]\n",
            "[4, 5, 6, 7, 8, 9, 0]\n",
            "[4, 5, 6, 7, 8, 9, 0]\n",
            "[4, 5, 6, 7, 8, 9, 0]\n",
            "[4, 5, 6, 7, 8, 9, 0]\n"
          ]
        }
      ]
    },
    {
      "cell_type": "code",
      "source": [
        "l=[4,5,6,7,8,9,0]\n",
        "for i in range(len(l)): \n",
        "    print(i)"
      ],
      "metadata": {
        "colab": {
          "base_uri": "https://localhost:8080/"
        },
        "id": "44Q6lqunrjde",
        "outputId": "bf2fe0d6-b4ef-4d5b-b98f-5e23d918a8e4"
      },
      "execution_count": null,
      "outputs": [
        {
          "output_type": "stream",
          "name": "stdout",
          "text": [
            "0\n",
            "1\n",
            "2\n",
            "3\n",
            "4\n",
            "5\n",
            "6\n"
          ]
        }
      ]
    },
    {
      "cell_type": "code",
      "source": [
        "l=[4,5,6,7,8,9,0]\n",
        "for i in range(len(l)): \n",
        "    print(l[i])"
      ],
      "metadata": {
        "colab": {
          "base_uri": "https://localhost:8080/"
        },
        "id": "zhl8ecrtrnM-",
        "outputId": "2b13083d-3643-436d-9421-d2f6a9038538"
      },
      "execution_count": null,
      "outputs": [
        {
          "output_type": "stream",
          "name": "stdout",
          "text": [
            "4\n",
            "5\n",
            "6\n",
            "7\n",
            "8\n",
            "9\n",
            "0\n"
          ]
        }
      ]
    },
    {
      "cell_type": "code",
      "source": [
        "l=[4,5,6,7,8,9,0]\n",
        "for i in range(len(l)+1): \n",
        "    print(l[i])\n",
        "# Introducing some error here : IndexError: list index out of range"
      ],
      "metadata": {
        "colab": {
          "base_uri": "https://localhost:8080/",
          "height": 322
        },
        "id": "7sJgJ2CNrt8W",
        "outputId": "b0a8f33b-1771-4ac4-d98e-8fea30b0935a"
      },
      "execution_count": null,
      "outputs": [
        {
          "output_type": "stream",
          "name": "stdout",
          "text": [
            "4\n",
            "5\n",
            "6\n",
            "7\n",
            "8\n",
            "9\n",
            "0\n"
          ]
        },
        {
          "output_type": "error",
          "ename": "IndexError",
          "evalue": "ignored",
          "traceback": [
            "\u001b[0;31m---------------------------------------------------------------------------\u001b[0m",
            "\u001b[0;31mIndexError\u001b[0m                                Traceback (most recent call last)",
            "\u001b[0;32m<ipython-input-20-e7356d5197b0>\u001b[0m in \u001b[0;36m<module>\u001b[0;34m\u001b[0m\n\u001b[1;32m      1\u001b[0m \u001b[0ml\u001b[0m\u001b[0;34m=\u001b[0m\u001b[0;34m[\u001b[0m\u001b[0;36m4\u001b[0m\u001b[0;34m,\u001b[0m\u001b[0;36m5\u001b[0m\u001b[0;34m,\u001b[0m\u001b[0;36m6\u001b[0m\u001b[0;34m,\u001b[0m\u001b[0;36m7\u001b[0m\u001b[0;34m,\u001b[0m\u001b[0;36m8\u001b[0m\u001b[0;34m,\u001b[0m\u001b[0;36m9\u001b[0m\u001b[0;34m,\u001b[0m\u001b[0;36m0\u001b[0m\u001b[0;34m]\u001b[0m\u001b[0;34m\u001b[0m\u001b[0;34m\u001b[0m\u001b[0m\n\u001b[1;32m      2\u001b[0m \u001b[0;32mfor\u001b[0m \u001b[0mi\u001b[0m \u001b[0;32min\u001b[0m \u001b[0mrange\u001b[0m\u001b[0;34m(\u001b[0m\u001b[0mlen\u001b[0m\u001b[0;34m(\u001b[0m\u001b[0ml\u001b[0m\u001b[0;34m)\u001b[0m\u001b[0;34m+\u001b[0m\u001b[0;36m1\u001b[0m\u001b[0;34m)\u001b[0m\u001b[0;34m:\u001b[0m\u001b[0;34m\u001b[0m\u001b[0;34m\u001b[0m\u001b[0m\n\u001b[0;32m----> 3\u001b[0;31m     \u001b[0mprint\u001b[0m\u001b[0;34m(\u001b[0m\u001b[0ml\u001b[0m\u001b[0;34m[\u001b[0m\u001b[0mi\u001b[0m\u001b[0;34m]\u001b[0m\u001b[0;34m)\u001b[0m\u001b[0;34m\u001b[0m\u001b[0;34m\u001b[0m\u001b[0m\n\u001b[0m",
            "\u001b[0;31mIndexError\u001b[0m: list index out of range"
          ]
        }
      ]
    },
    {
      "cell_type": "code",
      "source": [
        "try:\n",
        "    l=[4,5,6,7,8,9,0]\n",
        "    for i in range(len(l)+1): \n",
        "        print(l[i])\n",
        "except:\n",
        "    print(\"Warning: error  in the line\")"
      ],
      "metadata": {
        "colab": {
          "base_uri": "https://localhost:8080/"
        },
        "id": "jH9H53YWr-6t",
        "outputId": "5351fbb0-0c7b-4f57-a100-0a269eb55261"
      },
      "execution_count": null,
      "outputs": [
        {
          "output_type": "stream",
          "name": "stdout",
          "text": [
            "4\n",
            "5\n",
            "6\n",
            "7\n",
            "8\n",
            "9\n",
            "0\n",
            "Warning: error  in the line\n"
          ]
        }
      ]
    },
    {
      "cell_type": "markdown",
      "source": [
        "**Check what kind or errors through except block.**"
      ],
      "metadata": {
        "id": "Oc3-ccyJtOCX"
      }
    },
    {
      "cell_type": "code",
      "source": [
        "try:\n",
        "    l=[4,5,6,7,8,9,0]\n",
        "    for i in range(len(l)+1): \n",
        "        print(l[i])\n",
        "except Exception as e: # e is alias for Exception super class\n",
        "    print(\"Warning: error  in the line:---  \",e)\n"
      ],
      "metadata": {
        "colab": {
          "base_uri": "https://localhost:8080/"
        },
        "id": "elKj37jqtVC1",
        "outputId": "65dcec07-fbd2-4451-8dcd-997139a64226"
      },
      "execution_count": null,
      "outputs": [
        {
          "output_type": "stream",
          "name": "stdout",
          "text": [
            "4\n",
            "5\n",
            "6\n",
            "7\n",
            "8\n",
            "9\n",
            "0\n",
            "Warning: error  in the line:---   list index out of range\n"
          ]
        }
      ]
    },
    {
      "cell_type": "code",
      "source": [
        "try:\n",
        "    a=int(input(\"Enter something int: \"))\n",
        "    b=int(input(\"Enter something int: \"))\n",
        "except Exception as e:\n",
        "    print(\"Warning: Found error here is :-- ****\", e)\n",
        "print(\"next code here\")"
      ],
      "metadata": {
        "colab": {
          "base_uri": "https://localhost:8080/"
        },
        "id": "31f4yyUwuAEV",
        "outputId": "755523f8-1e50-454d-9206-f541bfbdd704"
      },
      "execution_count": null,
      "outputs": [
        {
          "output_type": "stream",
          "name": "stdout",
          "text": [
            "Enter something int: ererrere\n",
            "Warning: Found error here is :-- **** invalid literal for int() with base 10: 'ererrere'\n",
            "next code here\n"
          ]
        }
      ]
    },
    {
      "cell_type": "code",
      "source": [
        "print(\"Hello )"
      ],
      "metadata": {
        "id": "JyFLK1ievHqm",
        "colab": {
          "base_uri": "https://localhost:8080/",
          "height": 131
        },
        "outputId": "bbda3b03-cb01-43ec-af39-abfcdc10ba2b"
      },
      "execution_count": 1,
      "outputs": [
        {
          "output_type": "error",
          "ename": "SyntaxError",
          "evalue": "ignored",
          "traceback": [
            "\u001b[0;36m  File \u001b[0;32m\"<ipython-input-1-e8dd6fae58d9>\"\u001b[0;36m, line \u001b[0;32m1\u001b[0m\n\u001b[0;31m    print(\"Hello)\u001b[0m\n\u001b[0m                 ^\u001b[0m\n\u001b[0;31mSyntaxError\u001b[0m\u001b[0;31m:\u001b[0m EOL while scanning string literal\n"
          ]
        }
      ]
    },
    {
      "cell_type": "code",
      "source": [
        "a=int(input())"
      ],
      "metadata": {
        "colab": {
          "base_uri": "https://localhost:8080/",
          "height": 184
        },
        "id": "PlGFllTiIyfA",
        "outputId": "632633c6-96e8-4984-e308-3ea427d44511"
      },
      "execution_count": 3,
      "outputs": [
        {
          "name": "stdout",
          "output_type": "stream",
          "text": [
            "dsd\n"
          ]
        },
        {
          "output_type": "error",
          "ename": "ValueError",
          "evalue": "ignored",
          "traceback": [
            "\u001b[0;31m---------------------------------------------------------------------------\u001b[0m",
            "\u001b[0;31mValueError\u001b[0m                                Traceback (most recent call last)",
            "\u001b[0;32m<ipython-input-3-f7bced506b86>\u001b[0m in \u001b[0;36m<module>\u001b[0;34m\u001b[0m\n\u001b[0;32m----> 1\u001b[0;31m \u001b[0ma\u001b[0m\u001b[0;34m=\u001b[0m\u001b[0mint\u001b[0m\u001b[0;34m(\u001b[0m\u001b[0minput\u001b[0m\u001b[0;34m(\u001b[0m\u001b[0;34m)\u001b[0m\u001b[0;34m)\u001b[0m\u001b[0;34m\u001b[0m\u001b[0;34m\u001b[0m\u001b[0m\n\u001b[0m",
            "\u001b[0;31mValueError\u001b[0m: invalid literal for int() with base 10: 'dsd'"
          ]
        }
      ]
    },
    {
      "cell_type": "code",
      "source": [
        "try:\n",
        "    f=open(\"test.txt\", \"r\")\n",
        "    f.write(\"write something in test.txt. \")\n",
        "    print(\"this is mu code after write statement \")\n",
        "except:\n",
        "    print(\"this is my code continuation after error handling\")\n",
        "try:\n",
        "    l=[12,3,4,53,45]\n",
        "    for i in l:\n",
        "        print(i)\n",
        "except:\n",
        "    print(\"this is my code after 2nd try block\")"
      ],
      "metadata": {
        "colab": {
          "base_uri": "https://localhost:8080/"
        },
        "id": "zTAuOLPtJCGn",
        "outputId": "587d016a-a328-49ee-ea7e-5bb5d4fccbc1"
      },
      "execution_count": 6,
      "outputs": [
        {
          "output_type": "stream",
          "name": "stdout",
          "text": [
            "this is my code continuation after error handling\n",
            "12\n",
            "3\n",
            "4\n",
            "53\n",
            "45\n"
          ]
        }
      ]
    },
    {
      "cell_type": "code",
      "source": [
        "try:\n",
        "    dic={\"key1\":\"123\",\"key2\":[1,2,3,4,4],\"key3\":(34,67,78),\"key4\":int(input(\"Enter some int value: \"))}\n",
        "    dic[\"key5\"]=int(input(\"Enter string: \"))\n",
        "except Exception as error: # error is alias name\n",
        "    print(error)"
      ],
      "metadata": {
        "colab": {
          "base_uri": "https://localhost:8080/"
        },
        "id": "d2zGVXaFK_1G",
        "outputId": "8d12eb5c-60ad-470e-f93e-09044b3d2e25"
      },
      "execution_count": 14,
      "outputs": [
        {
          "output_type": "stream",
          "name": "stdout",
          "text": [
            "Enter some int value: 232\n",
            "Enter string: asdfdfdaf\n",
            "invalid literal for int() with base 10: 'asdfdfdaf'\n"
          ]
        }
      ]
    },
    {
      "cell_type": "markdown",
      "source": [
        "Exception is a super class.  \n",
        "There are a lot more sub class in the super class .\n",
        "like then we get a/0 arithematic error , division by 0 error, Arithematic error , value error etc\n"
      ],
      "metadata": {
        "id": "_qZo5lSrMklM"
      }
    },
    {
      "cell_type": "code",
      "source": [
        "# Still we get error because we defined code to handle only valueerror type , if we get anyother type errors we still get them it won't handle\n",
        "try:\n",
        "    dic={\"key1\":\"123\",\"key2\":[1,2,3,4,4],\"key3\":(34,67,78),\"key4\":int(input(\"Enter some int value: \"))}\n",
        "    f=open(\"test.txt\",\"r\")\n",
        "except ValueError as error: # error is alias name\n",
        "    print(error)"
      ],
      "metadata": {
        "colab": {
          "base_uri": "https://localhost:8080/",
          "height": 253
        },
        "id": "edKNe6G9NXlr",
        "outputId": "adeed913-4163-430b-aa2a-dd32ec0f63aa"
      },
      "execution_count": 15,
      "outputs": [
        {
          "name": "stdout",
          "output_type": "stream",
          "text": [
            "Enter some int value: 23\n"
          ]
        },
        {
          "output_type": "error",
          "ename": "FileNotFoundError",
          "evalue": "ignored",
          "traceback": [
            "\u001b[0;31m---------------------------------------------------------------------------\u001b[0m",
            "\u001b[0;31mFileNotFoundError\u001b[0m                         Traceback (most recent call last)",
            "\u001b[0;32m<ipython-input-15-eb30d613980e>\u001b[0m in \u001b[0;36m<module>\u001b[0;34m\u001b[0m\n\u001b[1;32m      2\u001b[0m \u001b[0;32mtry\u001b[0m\u001b[0;34m:\u001b[0m\u001b[0;34m\u001b[0m\u001b[0;34m\u001b[0m\u001b[0m\n\u001b[1;32m      3\u001b[0m     \u001b[0mdic\u001b[0m\u001b[0;34m=\u001b[0m\u001b[0;34m{\u001b[0m\u001b[0;34m\"key1\"\u001b[0m\u001b[0;34m:\u001b[0m\u001b[0;34m\"123\"\u001b[0m\u001b[0;34m,\u001b[0m\u001b[0;34m\"key2\"\u001b[0m\u001b[0;34m:\u001b[0m\u001b[0;34m[\u001b[0m\u001b[0;36m1\u001b[0m\u001b[0;34m,\u001b[0m\u001b[0;36m2\u001b[0m\u001b[0;34m,\u001b[0m\u001b[0;36m3\u001b[0m\u001b[0;34m,\u001b[0m\u001b[0;36m4\u001b[0m\u001b[0;34m,\u001b[0m\u001b[0;36m4\u001b[0m\u001b[0;34m]\u001b[0m\u001b[0;34m,\u001b[0m\u001b[0;34m\"key3\"\u001b[0m\u001b[0;34m:\u001b[0m\u001b[0;34m(\u001b[0m\u001b[0;36m34\u001b[0m\u001b[0;34m,\u001b[0m\u001b[0;36m67\u001b[0m\u001b[0;34m,\u001b[0m\u001b[0;36m78\u001b[0m\u001b[0;34m)\u001b[0m\u001b[0;34m,\u001b[0m\u001b[0;34m\"key4\"\u001b[0m\u001b[0;34m:\u001b[0m\u001b[0mint\u001b[0m\u001b[0;34m(\u001b[0m\u001b[0minput\u001b[0m\u001b[0;34m(\u001b[0m\u001b[0;34m\"Enter some int value: \"\u001b[0m\u001b[0;34m)\u001b[0m\u001b[0;34m)\u001b[0m\u001b[0;34m}\u001b[0m\u001b[0;34m\u001b[0m\u001b[0;34m\u001b[0m\u001b[0m\n\u001b[0;32m----> 4\u001b[0;31m     \u001b[0mf\u001b[0m\u001b[0;34m=\u001b[0m\u001b[0mopen\u001b[0m\u001b[0;34m(\u001b[0m\u001b[0;34m\"test.txt\"\u001b[0m\u001b[0;34m,\u001b[0m\u001b[0;34m\"r\"\u001b[0m\u001b[0;34m)\u001b[0m\u001b[0;34m\u001b[0m\u001b[0;34m\u001b[0m\u001b[0m\n\u001b[0m\u001b[1;32m      5\u001b[0m \u001b[0;32mexcept\u001b[0m \u001b[0mValueError\u001b[0m \u001b[0;32mas\u001b[0m \u001b[0merror\u001b[0m\u001b[0;34m:\u001b[0m \u001b[0;31m# error is alias name\u001b[0m\u001b[0;34m\u001b[0m\u001b[0;34m\u001b[0m\u001b[0m\n\u001b[1;32m      6\u001b[0m     \u001b[0mprint\u001b[0m\u001b[0;34m(\u001b[0m\u001b[0merror\u001b[0m\u001b[0;34m)\u001b[0m\u001b[0;34m\u001b[0m\u001b[0;34m\u001b[0m\u001b[0m\n",
            "\u001b[0;31mFileNotFoundError\u001b[0m: [Errno 2] No such file or directory: 'test.txt'"
          ]
        }
      ]
    },
    {
      "cell_type": "code",
      "source": [
        "# Above code vs this code for difference -> Exception vs valueerror\n",
        "try:\n",
        "    dic={\"key1\":\"123\",\"key2\":[1,2,3,4,4],\"key3\":(34,67,78),\"key4\":int(input(\"Enter some int value: \"))}\n",
        "    f=open(\"test.txt\",\"r\")\n",
        "except Exception as error: # error is alias name\n",
        "    print(error)"
      ],
      "metadata": {
        "colab": {
          "base_uri": "https://localhost:8080/"
        },
        "id": "4G8ODt4mN5Ub",
        "outputId": "b4175665-b5ad-4757-d061-c60452561484"
      },
      "execution_count": 16,
      "outputs": [
        {
          "output_type": "stream",
          "name": "stdout",
          "text": [
            "Enter some int value: 23\n",
            "[Errno 2] No such file or directory: 'test.txt'\n"
          ]
        }
      ]
    },
    {
      "cell_type": "markdown",
      "source": [
        "**Multiple Except blocks**  \n",
        "Its possible you can use multiple except blocks when you want to use subclasses"
      ],
      "metadata": {
        "id": "XiNRZbDCOnxZ"
      }
    },
    {
      "cell_type": "code",
      "source": [
        "try:\n",
        "    dic={\"key1\":\"123\",\"key2\":[1,2,3,4,4],\"key3\":(34,67,78),\"key4\":int(input(\"Enter some int value: \"))}\n",
        "    f=open(\"test.txt\",\"r\")\n",
        "except ValueError as error: # error is alias name\n",
        "    print(\"handled ValueError here:-- ***** \",error)\n",
        "except FileNotFoundError as er:\n",
        "    print(\"handled FileNotFoundError here:--- ****\", er)"
      ],
      "metadata": {
        "colab": {
          "base_uri": "https://localhost:8080/"
        },
        "id": "yHGu93H0Oz0R",
        "outputId": "429d05da-41b7-4825-9b2a-ef2c36d84fa6"
      },
      "execution_count": 20,
      "outputs": [
        {
          "output_type": "stream",
          "name": "stdout",
          "text": [
            "Enter some int value: 34\n",
            "handled FileNotFoundError here:--- **** [Errno 2] No such file or directory: 'test.txt'\n"
          ]
        }
      ]
    },
    {
      "cell_type": "markdown",
      "source": [
        "**else block**  \n",
        "if you have a code that depend on try block code .\n",
        "if Try block is executed successfully it goes to else block , If try has error handled by except."
      ],
      "metadata": {
        "id": "N2zt0qxLQxSw"
      }
    },
    {
      "cell_type": "code",
      "source": [
        "try:\n",
        "    f=open(\"test.txt\",'r')\n",
        "    f.write(\"write something in txt . \")\n",
        "except Exception as e:\n",
        "    print(\"handled error through Exception clasee\",e)\n",
        "else:\n",
        "    print(\"this will execute once my try block will be executed successfully\")\n",
        "    f.close()"
      ],
      "metadata": {
        "colab": {
          "base_uri": "https://localhost:8080/"
        },
        "id": "kxJ7bXmhQ0u3",
        "outputId": "9691e70d-3be8-4169-adec-cb252cf17be3"
      },
      "execution_count": 22,
      "outputs": [
        {
          "output_type": "stream",
          "name": "stdout",
          "text": [
            "handled error through Exception clasee [Errno 2] No such file or directory: 'test.txt'\n"
          ]
        }
      ]
    },
    {
      "cell_type": "code",
      "source": [
        "try:\n",
        "    f=open(\"test.txt\",'w')\n",
        "    f.write(\"write something in txt . \")\n",
        "except Exception as e:\n",
        "    print(\"handled error through Exception clasee\",e)\n",
        "else:\n",
        "    print(\"this will execute once my try block will be executed successfully\")\n",
        "    f.close()"
      ],
      "metadata": {
        "colab": {
          "base_uri": "https://localhost:8080/"
        },
        "id": "rmA1yrbGRvPh",
        "outputId": "4c851793-5f1c-4811-c358-96ce614d7217"
      },
      "execution_count": 23,
      "outputs": [
        {
          "output_type": "stream",
          "name": "stdout",
          "text": [
            "this will execute once my try block will be executed successfully\n"
          ]
        }
      ]
    },
    {
      "cell_type": "markdown",
      "source": [
        "**Finally Block**  \n",
        "finally: Will execute all the time even Try has error or successful  \n",
        "else: execution only when Try is successful"
      ],
      "metadata": {
        "id": "iBUyDPlJSGZ_"
      }
    },
    {
      "cell_type": "code",
      "source": [
        "try:\n",
        "    f=open(\"test.txt\",'w')\n",
        "    f.write(\"write something in txt . \")\n",
        "except Exception as e:\n",
        "    print(\"handled error through Exception clasee\",e)\n",
        "else:\n",
        "    print(\"this will execute once my try block will be executed successfully\") # Try block successful\n",
        "    \n",
        "finally:\n",
        "    print(\"from finally\") # \"try\" successful or error execute \"finally\"\n"
      ],
      "metadata": {
        "colab": {
          "base_uri": "https://localhost:8080/"
        },
        "id": "trX2GBqYSLZP",
        "outputId": "82e282fd-3daa-41c9-cc1c-9b830fb58394"
      },
      "execution_count": 26,
      "outputs": [
        {
          "output_type": "stream",
          "name": "stdout",
          "text": [
            "this will execute once my try block will be executed successfully\n",
            "from finally\n"
          ]
        }
      ]
    },
    {
      "cell_type": "code",
      "source": [
        "try:\n",
        "    f=open(\"test3.txt\",'r')\n",
        "    f.write(\"write something in txt . \")\n",
        "except Exception as e:\n",
        "    print(\"handled error through Exception clasee\",e)   # when \"try\" block has error\n",
        "else:\n",
        "    print(\"this will execute once my try block will be executed successfully\") # when \"Try\" block successful\n",
        "    \n",
        "finally:\n",
        "    print(\"from finally\") # \"try\" successful or error execute \"finally\"\n"
      ],
      "metadata": {
        "colab": {
          "base_uri": "https://localhost:8080/"
        },
        "id": "P6hhSVsHTFIY",
        "outputId": "3082dc37-e9d7-4661-ce9f-8cbbf92386c2"
      },
      "execution_count": 27,
      "outputs": [
        {
          "output_type": "stream",
          "name": "stdout",
          "text": [
            "handled error through Exception clasee [Errno 2] No such file or directory: 'test3.txt'\n",
            "from finally\n"
          ]
        }
      ]
    },
    {
      "cell_type": "code",
      "source": [
        "try:\n",
        "    f=open(\"test3.txt\",'w')\n",
        "except Exception as e:\n",
        "    print(\"handled error through Exception clasee\",e)   # when \"try\" block has error\n",
        "else:\n",
        "    print(\"Do this on successfull Try block\") # when \"Try\" block successful\n",
        "    \n",
        "finally:\n",
        "    print(\"from finally - do this for sure\") # \"try\" successful or error execute \"finally\"\n",
        "    try:\n",
        "        f=open(\"sdsdsdsddd\",'r')\n",
        "    except:\n",
        "        print(\"handle htis\")\n",
        "    finally :\n",
        "        print(\"this is from second try block\")"
      ],
      "metadata": {
        "colab": {
          "base_uri": "https://localhost:8080/"
        },
        "id": "ZDfCH917cRhw",
        "outputId": "1974dc14-7026-4ac5-f62f-7a18e7ea1351"
      },
      "execution_count": 1,
      "outputs": [
        {
          "output_type": "stream",
          "name": "stdout",
          "text": [
            "Do this on successfull Try block\n",
            "from finally - do this for sure\n",
            "handle htis\n",
            "this is from second try block\n"
          ]
        }
      ]
    },
    {
      "cell_type": "code",
      "source": [
        "def askint():\n",
        "    try:\n",
        "        a=int(input(\"enter int value: \"))\n",
        "        return a\n",
        "    except Exception as e:\n",
        "        print(\"handled error by Exception: \", e)\n",
        "askint()"
      ],
      "metadata": {
        "colab": {
          "base_uri": "https://localhost:8080/"
        },
        "id": "csFVQsLQdT1D",
        "outputId": "dda7643a-e17b-4ffe-d53a-6f682deccf03"
      },
      "execution_count": 6,
      "outputs": [
        {
          "output_type": "stream",
          "name": "stdout",
          "text": [
            "enter int value: sdfgrasds\n",
            "handled error by Exception:  invalid literal for int() with base 10: 'sdfgrasds'\n"
          ]
        }
      ]
    },
    {
      "cell_type": "code",
      "source": [
        "# write a program to ask int value again as input until you give in int only\n",
        "def askint():\n",
        "    while True:\n",
        "        try:\n",
        "            a=int(input(\"enter int value: \"))\n",
        "            print(\"great you entered right expected int value\")\n",
        "            break\n",
        "        except Exception as e:\n",
        "            print(\"handled error by Exception: \", e)\n",
        "askint()"
      ],
      "metadata": {
        "colab": {
          "base_uri": "https://localhost:8080/"
        },
        "id": "UwBLG9RLe0gH",
        "outputId": "210257fc-4e2e-42b3-ebe3-846fd9fd5261"
      },
      "execution_count": 13,
      "outputs": [
        {
          "output_type": "stream",
          "name": "stdout",
          "text": [
            "enter int value: dfdfdaf\n",
            "handled error by Exception:  invalid literal for int() with base 10: 'dfdfdaf'\n",
            "enter int value: 23\n",
            "great you entered right expected int value\n"
          ]
        }
      ]
    },
    {
      "cell_type": "markdown",
      "source": [
        "**Raise an Exception**  \n",
        "Write code to message us custom or our own exception  \n",
        "raise keyword  \n"
      ],
      "metadata": {
        "id": "2u6MBZffhErY"
      }
    },
    {
      "cell_type": "code",
      "source": [
        "def test(a):\n",
        "    if a <0:\n",
        "        raise Exception(\"Warning!!!\",a)\n",
        "    return a\n",
        "test(-4)  #Exception: ('Warning!!!', -4)"
      ],
      "metadata": {
        "colab": {
          "base_uri": "https://localhost:8080/",
          "height": 322
        },
        "id": "EggFckJyeUXO",
        "outputId": "f12f0095-2e6f-40db-9365-c777c91b2195"
      },
      "execution_count": 17,
      "outputs": [
        {
          "output_type": "error",
          "ename": "Exception",
          "evalue": "ignored",
          "traceback": [
            "\u001b[0;31m---------------------------------------------------------------------------\u001b[0m",
            "\u001b[0;31mException\u001b[0m                                 Traceback (most recent call last)",
            "\u001b[0;32m<ipython-input-17-2ea74c6039d6>\u001b[0m in \u001b[0;36m<module>\u001b[0;34m\u001b[0m\n\u001b[1;32m      3\u001b[0m         \u001b[0;32mraise\u001b[0m \u001b[0mException\u001b[0m\u001b[0;34m(\u001b[0m\u001b[0;34m\"Warning!!!\"\u001b[0m\u001b[0;34m,\u001b[0m\u001b[0ma\u001b[0m\u001b[0;34m)\u001b[0m\u001b[0;34m\u001b[0m\u001b[0;34m\u001b[0m\u001b[0m\n\u001b[1;32m      4\u001b[0m     \u001b[0;32mreturn\u001b[0m \u001b[0ma\u001b[0m\u001b[0;34m\u001b[0m\u001b[0;34m\u001b[0m\u001b[0m\n\u001b[0;32m----> 5\u001b[0;31m \u001b[0mtest\u001b[0m\u001b[0;34m(\u001b[0m\u001b[0;34m-\u001b[0m\u001b[0;36m4\u001b[0m\u001b[0;34m)\u001b[0m  \u001b[0;31m#Exception: -4\u001b[0m\u001b[0;34m\u001b[0m\u001b[0;34m\u001b[0m\u001b[0m\n\u001b[0m",
            "\u001b[0;32m<ipython-input-17-2ea74c6039d6>\u001b[0m in \u001b[0;36mtest\u001b[0;34m(a)\u001b[0m\n\u001b[1;32m      1\u001b[0m \u001b[0;32mdef\u001b[0m \u001b[0mtest\u001b[0m\u001b[0;34m(\u001b[0m\u001b[0ma\u001b[0m\u001b[0;34m)\u001b[0m\u001b[0;34m:\u001b[0m\u001b[0;34m\u001b[0m\u001b[0;34m\u001b[0m\u001b[0m\n\u001b[1;32m      2\u001b[0m     \u001b[0;32mif\u001b[0m \u001b[0ma\u001b[0m \u001b[0;34m<\u001b[0m\u001b[0;36m0\u001b[0m\u001b[0;34m:\u001b[0m\u001b[0;34m\u001b[0m\u001b[0;34m\u001b[0m\u001b[0m\n\u001b[0;32m----> 3\u001b[0;31m         \u001b[0;32mraise\u001b[0m \u001b[0mException\u001b[0m\u001b[0;34m(\u001b[0m\u001b[0;34m\"Warning!!!\"\u001b[0m\u001b[0;34m,\u001b[0m\u001b[0ma\u001b[0m\u001b[0;34m)\u001b[0m\u001b[0;34m\u001b[0m\u001b[0;34m\u001b[0m\u001b[0m\n\u001b[0m\u001b[1;32m      4\u001b[0m     \u001b[0;32mreturn\u001b[0m \u001b[0ma\u001b[0m\u001b[0;34m\u001b[0m\u001b[0;34m\u001b[0m\u001b[0m\n\u001b[1;32m      5\u001b[0m \u001b[0mtest\u001b[0m\u001b[0;34m(\u001b[0m\u001b[0;34m-\u001b[0m\u001b[0;36m4\u001b[0m\u001b[0;34m)\u001b[0m  \u001b[0;31m#Exception: -4\u001b[0m\u001b[0;34m\u001b[0m\u001b[0;34m\u001b[0m\u001b[0m\n",
            "\u001b[0;31mException\u001b[0m: ('Warning!!!', -4)"
          ]
        }
      ]
    },
    {
      "cell_type": "markdown",
      "source": [
        "**Logging**  \n",
        "How to log -    \n",
        "In prod program we shouldn't use print so we use logging to log all messages to a file .  \n",
        "ex . if there is a crash in program this logger helps to investigate the flow to debug.  \n"
      ],
      "metadata": {
        "id": "70co1uYAl185"
      }
    },
    {
      "cell_type": "code",
      "source": [],
      "metadata": {
        "id": "xi4Vx6jyl1H6"
      },
      "execution_count": null,
      "outputs": []
    }
  ]
}