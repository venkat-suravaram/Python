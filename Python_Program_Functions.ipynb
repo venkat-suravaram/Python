{
  "nbformat": 4,
  "nbformat_minor": 0,
  "metadata": {
    "colab": {
      "provenance": [],
      "authorship_tag": "ABX9TyOdjuFy8MgqkriGdAxOddDO"
    },
    "kernelspec": {
      "name": "python3",
      "display_name": "Python 3"
    },
    "language_info": {
      "name": "python"
    }
  },
  "cells": [
    {
      "cell_type": "code",
      "source": [
        "# 1. Find a lenth of a string without using len() / Take a string as input and return length\n",
        "# 2. Write function will return the index of all the remitive elements  you pass .\n",
        "# 3. Take input as dictionary and give output as a list of all the values even  in case of any number of levels of nesting it will work.\n",
        "# 4. Take function which will take another func as an input and return output\n",
        "# 5. Write a function which will take a list as a input and give me concatination of all the elemets as output.\n",
        "# 6. Write a function which will be able to take a list as input and return an index of each elements like inbuilt index function ven if we have repetitive elements\n",
        "# 7. return list of all file names from a directory\n",
        "# 8. function to show system configuration\n",
        "# 9. show date and time\n",
        "# 10. Read an image and show\n",
        "# 11. read a vido file and play\n",
        "# 12. Move file from one directory to another .\n",
        "# 13. function to shutdown your computer\n",
        "# 14. function to access your email\n",
        "# 15. function to send a email\n",
        "# 16. function to read a complete pdf file\n",
        "# 17. function to read a word file\n",
        "# 18. function to filter only word file from a library\n",
        "# 19. print ip adress of your system\n",
        "# 20. append 2 pdf files\n",
        "\n",
        "\n",
        "## 1. Find a lenth of a string without using len() / Take a string as input and return length\n",
        "def length(a):\n",
        "    print(\"type of a : \", type(a))\n",
        "    if type(a) == str :\n",
        "       print(\"length of a string :\" , len(a))\n",
        "length(\"string\")\n",
        "\n",
        "def length(str):\n",
        "    count=0\n",
        "    for i in str:\n",
        "        count=count+1\n",
        "    return count\n",
        "print(length('string'))\n",
        "\n"
      ],
      "metadata": {
        "colab": {
          "base_uri": "https://localhost:8080/"
        },
        "id": "sCW7_2wP43Qg",
        "outputId": "ffdc8a27-191b-4500-e60e-ec51aba884bf"
      },
      "execution_count": 9,
      "outputs": [
        {
          "output_type": "stream",
          "name": "stdout",
          "text": [
            "type of a :  <class 'str'>\n",
            "length of a string : 6\n",
            "6\n"
          ]
        }
      ]
    },
    {
      "cell_type": "code",
      "source": [
        "## 2. Write function will return the index of all the remitive elements  you pass .\n",
        "def find_index(str):\n",
        "     for i in str:\n",
        "         a = []\n",
        "         a=str.index(i)\n",
        "         print(\"value :\", i,\"of index :\",a)\n",
        "find_index(\"string\")\n",
        "\n",
        "def func(l):   \n",
        "    print(\"type of l is: \", type(l))\n",
        "    if type(l)==list or type(l)==tuple or type(l)==str : # checking type of input\n",
        "        print(\"type of l is: \", type(l))\n",
        "        for i in range(len(l)):\n",
        "            print(\" Index  of: \" ,l[i],\" is: \", i)\n",
        "func([34,56,78,18,\"ram\"])"
      ],
      "metadata": {
        "colab": {
          "base_uri": "https://localhost:8080/"
        },
        "id": "uvvl_hJR5LMO",
        "outputId": "d0a7523d-dc4a-4839-b0e5-339346e3c4b8"
      },
      "execution_count": 10,
      "outputs": [
        {
          "output_type": "stream",
          "name": "stdout",
          "text": [
            "value : s of index : 0\n",
            "value : t of index : 1\n",
            "value : r of index : 2\n",
            "value : i of index : 3\n",
            "value : n of index : 4\n",
            "value : g of index : 5\n",
            "type of l is:  <class 'list'>\n",
            "type of l is:  <class 'list'>\n",
            " Index  of:  34  is:  0\n",
            " Index  of:  56  is:  1\n",
            " Index  of:  78  is:  2\n",
            " Index  of:  18  is:  3\n",
            " Index  of:  ram  is:  4\n"
          ]
        }
      ]
    },
    {
      "cell_type": "code",
      "source": [
        "## 4. Take function as input and returns output\n",
        "\n",
        "def upper(str):\n",
        "    return str.upper()\n",
        "def lower(str):\n",
        "    return str.lower()\n",
        "def casechange(func):\n",
        "    message=func(\"text goes here\")\n",
        "    print(message)\n",
        "casechange(upper)\n",
        "casechange(lower)"
      ],
      "metadata": {
        "colab": {
          "base_uri": "https://localhost:8080/"
        },
        "id": "E8OihTOB5ePP",
        "outputId": "4fedb438-c1f5-432c-fd44-89fa448f663e"
      },
      "execution_count": 11,
      "outputs": [
        {
          "output_type": "stream",
          "name": "stdout",
          "text": [
            "TEXT GOES HERE\n",
            "text goes here\n"
          ]
        }
      ]
    },
    {
      "cell_type": "code",
      "source": [
        "##5. Write a function which will take a list as a input and give me concatination of all the elemets as output.\n",
        "def function(*args):\n",
        "    l=[]\n",
        "    for i in args:\n",
        "        if  type(i)==list:\n",
        "            l=l+i\n",
        "        return\n",
        "function([1,2,3],['a','b','c'],\"abcd\",23)"
      ],
      "metadata": {
        "id": "t8ervM__5jfv"
      },
      "execution_count": 14,
      "outputs": []
    },
    {
      "cell_type": "code",
      "execution_count": 6,
      "metadata": {
        "id": "nOqFKzuwceko",
        "colab": {
          "base_uri": "https://localhost:8080/"
        },
        "outputId": "c10221b7-978e-4fff-bdd5-950ce6f56d2d"
      },
      "outputs": [
        {
          "output_type": "stream",
          "name": "stdout",
          "text": [
            "Idex of  apple  is :  0\n",
            "Idex of  orange  is :  1\n",
            "Idex of  Banana  is :  2\n"
          ]
        },
        {
          "output_type": "execute_result",
          "data": {
            "text/plain": [
              "['Index of  apple is 0', 'Index of  orange is 1', 'Index of  Banana is 2']"
            ]
          },
          "metadata": {},
          "execution_count": 6
        }
      ],
      "source": [
        "## 6. Write a function which will be able to take a list as input and return an index of each elements like inbuilt index function ven if we have repetitive elements\n",
        "def test(food):\n",
        "    for i in food:\n",
        "        print(\"Idex of \", i, \" is : \", food.index(i)) # this using index()\n",
        "#food=[\"apple\",\"orange\",\"Banana\"]\n",
        "test([\"apple\",\"orange\",\"Banana\"])\n",
        "\n",
        "def test(food):\n",
        "    l=[]\n",
        "    if type(food)==list:\n",
        "        for i in range(len(food)):\n",
        "            l.append(f'Index of  {food[i]} is {i}')\n",
        "        return l\n",
        "test([\"apple\",\"orange\",\"Banana\"])\n",
        "\n"
      ]
    },
    {
      "cell_type": "code",
      "source": [
        "## 7. Return list of all file names from a directory\n",
        "\n",
        "def fun(path):\n",
        "  import os   # import os module\n",
        "  print(os.getcwd())\n",
        "  return os.listdir() # Get list of all files in the directory\n",
        "fun('\\content')\n",
        "\n"
      ],
      "metadata": {
        "colab": {
          "base_uri": "https://localhost:8080/"
        },
        "id": "FkDGPGIf4BGy",
        "outputId": "e0676d4e-d851-48af-ef9b-3fdf3e4d01df"
      },
      "execution_count": 20,
      "outputs": [
        {
          "output_type": "stream",
          "name": "stdout",
          "text": [
            "/content\n"
          ]
        },
        {
          "output_type": "execute_result",
          "data": {
            "text/plain": [
              "['.config', 'sample_data']"
            ]
          },
          "metadata": {},
          "execution_count": 20
        }
      ]
    },
    {
      "cell_type": "code",
      "source": [
        "##8. function to show system configuration\n",
        "def fun():\n",
        "  import platform as pl\n",
        "  return pl.uname()\n",
        "fun()\n"
      ],
      "metadata": {
        "colab": {
          "base_uri": "https://localhost:8080/"
        },
        "id": "MzwTAP9C7uLP",
        "outputId": "beaae6f4-e08f-4f7c-a5c4-5625b09807b1"
      },
      "execution_count": 24,
      "outputs": [
        {
          "output_type": "execute_result",
          "data": {
            "text/plain": [
              "uname_result(system='Linux', node='2277c7016fac', release='5.10.133+', version='#1 SMP Fri Aug 26 08:44:51 UTC 2022', machine='x86_64', processor='x86_64')"
            ]
          },
          "metadata": {},
          "execution_count": 24
        }
      ]
    },
    {
      "cell_type": "code",
      "source": [
        "# 9. show date and time\n",
        "def datetime():\n",
        "  import subprocess as sp\n",
        "  from subprocess import time\n",
        "  a=time.localtime()\n",
        "  print(a)\n",
        "  date=str(a[0]+'-'+str(a[1])+'-'+str(a[2])) # Arranged a value outcome as below\n",
        "  time=str(a[3]+'-'+str(a[4])+'-'+str(a[5]))\n",
        "  return f\"The Date is {date} and the Time is {time}\"\n",
        "datetime()"
      ],
      "metadata": {
        "colab": {
          "base_uri": "https://localhost:8080/",
          "height": 340
        },
        "id": "YcIGkvRb9lbE",
        "outputId": "cb2df87d-16ae-41e3-a2c8-7f3d83fdaed1"
      },
      "execution_count": 32,
      "outputs": [
        {
          "output_type": "stream",
          "name": "stdout",
          "text": [
            "time.struct_time(tm_year=2022, tm_mon=11, tm_mday=15, tm_hour=20, tm_min=31, tm_sec=36, tm_wday=1, tm_yday=319, tm_isdst=0)\n"
          ]
        },
        {
          "output_type": "error",
          "ename": "TypeError",
          "evalue": "ignored",
          "traceback": [
            "\u001b[0;31m---------------------------------------------------------------------------\u001b[0m",
            "\u001b[0;31mTypeError\u001b[0m                                 Traceback (most recent call last)",
            "\u001b[0;32m<ipython-input-32-f9d15af18eb7>\u001b[0m in \u001b[0;36m<module>\u001b[0;34m\u001b[0m\n\u001b[1;32m      8\u001b[0m   \u001b[0mtime\u001b[0m\u001b[0;34m=\u001b[0m\u001b[0mstr\u001b[0m\u001b[0;34m(\u001b[0m\u001b[0ma\u001b[0m\u001b[0;34m[\u001b[0m\u001b[0;36m3\u001b[0m\u001b[0;34m]\u001b[0m\u001b[0;34m+\u001b[0m\u001b[0;34m'-'\u001b[0m\u001b[0;34m+\u001b[0m\u001b[0mstr\u001b[0m\u001b[0;34m(\u001b[0m\u001b[0ma\u001b[0m\u001b[0;34m[\u001b[0m\u001b[0;36m4\u001b[0m\u001b[0;34m]\u001b[0m\u001b[0;34m)\u001b[0m\u001b[0;34m+\u001b[0m\u001b[0;34m'-'\u001b[0m\u001b[0;34m+\u001b[0m\u001b[0mstr\u001b[0m\u001b[0;34m(\u001b[0m\u001b[0ma\u001b[0m\u001b[0;34m[\u001b[0m\u001b[0;36m5\u001b[0m\u001b[0;34m]\u001b[0m\u001b[0;34m)\u001b[0m\u001b[0;34m)\u001b[0m\u001b[0;34m\u001b[0m\u001b[0;34m\u001b[0m\u001b[0m\n\u001b[1;32m      9\u001b[0m   \u001b[0;32mreturn\u001b[0m \u001b[0;34mf\"The Date is {date} and the Time is {time}\"\u001b[0m\u001b[0;34m\u001b[0m\u001b[0;34m\u001b[0m\u001b[0m\n\u001b[0;32m---> 10\u001b[0;31m \u001b[0mdatetime\u001b[0m\u001b[0;34m(\u001b[0m\u001b[0;34m)\u001b[0m\u001b[0;34m\u001b[0m\u001b[0;34m\u001b[0m\u001b[0m\n\u001b[0m",
            "\u001b[0;32m<ipython-input-32-f9d15af18eb7>\u001b[0m in \u001b[0;36mdatetime\u001b[0;34m()\u001b[0m\n\u001b[1;32m      5\u001b[0m   \u001b[0ma\u001b[0m\u001b[0;34m=\u001b[0m\u001b[0mtime\u001b[0m\u001b[0;34m.\u001b[0m\u001b[0mlocaltime\u001b[0m\u001b[0;34m(\u001b[0m\u001b[0;34m)\u001b[0m\u001b[0;34m\u001b[0m\u001b[0;34m\u001b[0m\u001b[0m\n\u001b[1;32m      6\u001b[0m   \u001b[0mprint\u001b[0m\u001b[0;34m(\u001b[0m\u001b[0ma\u001b[0m\u001b[0;34m)\u001b[0m\u001b[0;34m\u001b[0m\u001b[0;34m\u001b[0m\u001b[0m\n\u001b[0;32m----> 7\u001b[0;31m   \u001b[0mdate\u001b[0m\u001b[0;34m=\u001b[0m\u001b[0mstr\u001b[0m\u001b[0;34m(\u001b[0m\u001b[0ma\u001b[0m\u001b[0;34m[\u001b[0m\u001b[0;36m0\u001b[0m\u001b[0;34m]\u001b[0m\u001b[0;34m+\u001b[0m\u001b[0;34m'-'\u001b[0m\u001b[0;34m+\u001b[0m\u001b[0mstr\u001b[0m\u001b[0;34m(\u001b[0m\u001b[0ma\u001b[0m\u001b[0;34m[\u001b[0m\u001b[0;36m1\u001b[0m\u001b[0;34m]\u001b[0m\u001b[0;34m)\u001b[0m\u001b[0;34m+\u001b[0m\u001b[0;34m'-'\u001b[0m\u001b[0;34m+\u001b[0m\u001b[0mstr\u001b[0m\u001b[0;34m(\u001b[0m\u001b[0ma\u001b[0m\u001b[0;34m[\u001b[0m\u001b[0;36m2\u001b[0m\u001b[0;34m]\u001b[0m\u001b[0;34m)\u001b[0m\u001b[0;34m)\u001b[0m\u001b[0;34m\u001b[0m\u001b[0;34m\u001b[0m\u001b[0m\n\u001b[0m\u001b[1;32m      8\u001b[0m   \u001b[0mtime\u001b[0m\u001b[0;34m=\u001b[0m\u001b[0mstr\u001b[0m\u001b[0;34m(\u001b[0m\u001b[0ma\u001b[0m\u001b[0;34m[\u001b[0m\u001b[0;36m3\u001b[0m\u001b[0;34m]\u001b[0m\u001b[0;34m+\u001b[0m\u001b[0;34m'-'\u001b[0m\u001b[0;34m+\u001b[0m\u001b[0mstr\u001b[0m\u001b[0;34m(\u001b[0m\u001b[0ma\u001b[0m\u001b[0;34m[\u001b[0m\u001b[0;36m4\u001b[0m\u001b[0;34m]\u001b[0m\u001b[0;34m)\u001b[0m\u001b[0;34m+\u001b[0m\u001b[0;34m'-'\u001b[0m\u001b[0;34m+\u001b[0m\u001b[0mstr\u001b[0m\u001b[0;34m(\u001b[0m\u001b[0ma\u001b[0m\u001b[0;34m[\u001b[0m\u001b[0;36m5\u001b[0m\u001b[0;34m]\u001b[0m\u001b[0;34m)\u001b[0m\u001b[0;34m)\u001b[0m\u001b[0;34m\u001b[0m\u001b[0;34m\u001b[0m\u001b[0m\n\u001b[1;32m      9\u001b[0m   \u001b[0;32mreturn\u001b[0m \u001b[0;34mf\"The Date is {date} and the Time is {time}\"\u001b[0m\u001b[0;34m\u001b[0m\u001b[0;34m\u001b[0m\u001b[0m\n",
            "\u001b[0;31mTypeError\u001b[0m: unsupported operand type(s) for +: 'int' and 'str'"
          ]
        }
      ]
    }
  ]
}