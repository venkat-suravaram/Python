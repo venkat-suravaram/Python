{
  "nbformat": 4,
  "nbformat_minor": 0,
  "metadata": {
    "colab": {
      "provenance": [],
      "authorship_tag": "ABX9TyNu7iRIr3/hFXMLRA0J4VoA"
    },
    "kernelspec": {
      "name": "python3",
      "display_name": "Python 3"
    },
    "language_info": {
      "name": "python"
    }
  },
  "cells": [
    {
      "cell_type": "markdown",
      "source": [
        "**Operators**"
      ],
      "metadata": {
        "id": "RW7F4V05piT_"
      }
    },
    {
      "cell_type": "code",
      "execution_count": 1,
      "metadata": {
        "colab": {
          "base_uri": "https://localhost:8080/"
        },
        "id": "djCguJcNpf6D",
        "outputId": "2b046ded-bb41-49af-b6f3-386609691b7c"
      },
      "outputs": [
        {
          "output_type": "stream",
          "name": "stdout",
          "text": [
            "Addition of x + y =  8\n",
            "Substraction of x - y =  2\n",
            "Multiplication of x * y =  15\n",
            "Float Division of x / y =  1.6666666666666667\n",
            "Integer Divison of x // y =  1\n",
            "Modulus of x % y =  2\n",
            "Power of y on x i.e; x ** y =  125\n",
            "Full name =  Jonny lee\n",
            "Multiply numeric str =  JonnyJonnyJonnyJonnyJonny\n",
            "Result of a == b ,  False\n",
            "Result of a != b ,  True\n",
            "Result of a > b ,  True\n",
            "Result of a < b ,  False\n",
            "Result of a >= b ,  True\n",
            "Result of a <= b ,  False\n",
            "m>10 and n<10 Result  False\n",
            "m>20 or n<10 Result  True\n",
            "not(m>20 and n<10) Result  True\n"
          ]
        }
      ],
      "source": [
        "# ===============================================================================\n",
        "# Numerical operators in Python\n",
        "\n",
        "# + for addition\n",
        "# - for substractions\n",
        "# * for multiplication\n",
        "# / for float division\n",
        "# // for integer division\n",
        "# ** for power calculation\n",
        "# % for Modulus\n",
        "\n",
        "x = 5\n",
        "y = 3\n",
        "\n",
        "print(\"Addition of x + y = \", x+y)\n",
        "print(\"Substraction of x - y = \", x-y)\n",
        "print(\"Multiplication of x * y = \", x*y)\n",
        "print(\"Float Division of x / y = \", x/y)\n",
        "print(\"Integer Divison of x // y = \", x//y)\n",
        "print(\"Modulus of x % y = \", x%y)\n",
        "print(\"Power of y on x i.e; x ** y = \", x**y)\n",
        "\n",
        "# concat operation for string\n",
        "str_data = \"Jonny\"\n",
        "full_name = str_data + \" \" + \"lee\"\n",
        "print(\"Full name = \", full_name)\n",
        "\n",
        "# # if we can use - as well ? IT will not work\n",
        "# minus_str = \"Jonny\" - \"Lee\"\n",
        "# print(\"Minus str = \", minus_str)\n",
        "\n",
        "# multiply_str = \"Jonny\"*\"Lee\"\n",
        "# print(\"Multiply str = \", multiply_str)\n",
        "\n",
        "# power_str = \"Jonny\"**\"Lee\"\n",
        "# print(\"Power str = \", power_str)\n",
        "\n",
        "# power_str = \"Jonny\" ** 3\n",
        "# print(\"Power str = \", power_str)\n",
        "\n",
        "multiply_numeric_str = \"Jonny\"*5\n",
        "print(\"Multiply numeric str = \", multiply_numeric_str)\n",
        "\n",
        "\n",
        "#===============================================================\n",
        "# Assignment operators\n",
        "# =  , x = 5\n",
        "# += , x += 5 -> x = x + 5\n",
        "# -= , x -= 5 -> x = x - 5\n",
        "# *= , x *= 5 -> x = x * 5\n",
        "# /= , x /= 5 -> x = x / 5\n",
        "# //= , x //= 5 -> x = x // 5\n",
        "# %= , x %= 5 -> x = x % 5\n",
        "\n",
        "\n",
        "# Comparison Operators ( we compare operand values)\n",
        "# == , Equals to condition , x == y\n",
        "# != , Not Equals to condition , x != y\n",
        "# > , Greater than condition , x > y\n",
        "# < , Less than condition , x < y\n",
        "# >= , Greater than and Equals to condition , x >= y\n",
        "# <= , Less than and Equals to condition , x <= y\n",
        "\n",
        "a = 10\n",
        "b = 5\n",
        "print(\"Result of a == b , \", a == b)\n",
        "print(\"Result of a != b , \", a != b)\n",
        "print(\"Result of a > b , \", a > b)\n",
        "print(\"Result of a < b , \", a < b)\n",
        "print(\"Result of a >= b , \", a >= b)\n",
        "print(\"Result of a <= b , \", a <= b)\n",
        "\n",
        "\n",
        "# logical operators in Python ( Logical check will happen for expression result)\n",
        "# and -> Returns true if both statements are true\n",
        "# or -> Returns true if one of statements are true\n",
        "# not -> Reverse the result, returns false if the result is true\n",
        "\n",
        "m = 10\n",
        "n = 8\n",
        "print(\"m>10 and n<10 Result \" , m>10 and n<10) # False and True -> False\n",
        "print(\"m>20 or n<10 Result \" , m>10 or n<10) # False or True ->\n",
        "print(\"not(m>20 and n<10) Result \" , not(m>10 and n<10))\n",
        "# not(False and True) -> not(False) -> True"
      ]
    }
  ]
}